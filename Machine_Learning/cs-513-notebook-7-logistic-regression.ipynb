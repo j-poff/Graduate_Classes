{
 "cells": [
  {
   "cell_type": "markdown",
   "id": "084f84ee",
   "metadata": {
    "papermill": {
     "duration": 0.012623,
     "end_time": "2023-05-19T23:01:24.518911",
     "exception": false,
     "start_time": "2023-05-19T23:01:24.506288",
     "status": "completed"
    },
    "tags": []
   },
   "source": [
    "# Introduction\n",
    "\n",
    "This notebook contains two parts. **Part 1, Logistic Regression**, provides you an opportunity to demonstrate your ability to apply course concepts by implementing a training function for logistic regression. **Part 2, Classifying Fashion Items**, provides you an opportunity to practice using widely-used ML libraries and an ML workflow to analyze a classification problem using a logistic regression model.\n",
    "\n",
    "**You do not need to complete Part 1 in order to complete Part 2**. If you get stuck on Part 1, and choose to work on Part 2, be sure that all of your code for Part 1 runs without error. You can comment out your code in Part 1 if necessary."
   ]
  },
  {
   "cell_type": "markdown",
   "id": "21ce6bc0",
   "metadata": {
    "papermill": {
     "duration": 0.01131,
     "end_time": "2023-05-19T23:01:24.542234",
     "exception": false,
     "start_time": "2023-05-19T23:01:24.530924",
     "status": "completed"
    },
    "tags": []
   },
   "source": [
    "# Part 1: Implementing Logistic Regression\n",
    "\n",
    "Given a nearly-complete LogisticRegressor, and a simple training set of tumor data, demonstrate your ability to implement a logistic regression model's `fit` function, such that it properly trains its model using gradient descent.\n",
    "\n",
    "## The LogisticRegressor\n",
    "\n",
    "Let's first review the LogisticRegressor, which you should find familiar. Notice that the `fit` method uses a fixed number of iterations, only for simplicity and experimentation, and is stubbed to do nothing. But, also notice that the comments in `fit` describe a training process using gradient descent.\n",
    "\n",
    "Run the code cell and observe the results."
   ]
  },
  {
   "cell_type": "code",
   "execution_count": 1,
   "id": "b7e69a23",
   "metadata": {
    "execution": {
     "iopub.execute_input": "2023-05-19T23:01:24.568236Z",
     "iopub.status.busy": "2023-05-19T23:01:24.567756Z",
     "iopub.status.idle": "2023-05-19T23:01:28.730304Z",
     "shell.execute_reply": "2023-05-19T23:01:28.728994Z"
    },
    "papermill": {
     "duration": 4.180184,
     "end_time": "2023-05-19T23:01:28.734180",
     "exception": false,
     "start_time": "2023-05-19T23:01:24.553996",
     "status": "completed"
    },
    "tags": []
   },
   "outputs": [
    {
     "name": "stdout",
     "output_type": "stream",
     "text": [
      "Prediction for [0.5, 1.5] is 0\n",
      "Prediction for [1, 1] is 0\n",
      "Prediction for [1.5, 0.5] is 0\n",
      "Prediction for [3, 0.5] is 1\n",
      "Prediction for [2, 2] is 1\n",
      "Prediction for [1, 2.5] is 1\n",
      "0.0016974661879524142\n"
     ]
    }
   ],
   "source": [
    "import math\n",
    "\n",
    "class LogisticRegressor:\n",
    "\n",
    "    def __init__(self, w = 0, b = 0, alpha = 0.1):\n",
    "        self.w = w\n",
    "        self.b = b\n",
    "        self.alpha = alpha\n",
    "\n",
    "    def fit(self, x_train, y_train):\n",
    "    # Get number of features from the first data object\n",
    "        feature_count = len(x_train[0])\n",
    "        for _ in range(0, 100000):\n",
    "            # Determine the changes that need to be made to w\n",
    "            delta_w = self._d_cost_function_w(x_train, y_train)\n",
    "            # Determine the changes that need to be made to b\n",
    "            delta_b = self._d_cost_function_b(x_train, y_train)\n",
    "            # For each weight element in the w vector\n",
    "            for feature_index in range(feature_count):\n",
    "                # Update the weight (subtract the change times alpha)\n",
    "                self.w[feature_index] = self.w[feature_index] - self.alpha * delta_w[feature_index]\n",
    "            # Update the bias (subtract the change times alpha)\n",
    "            self.b = self.b - self.alpha * delta_b                \n",
    "\n",
    "    def cost(self, x_examples, y_class_labels):\n",
    "        cost = 0\n",
    "        for i in range(len(x_examples)):\n",
    "            cost += self._loss(x_examples[i], y_class_labels[i])\n",
    "        return cost / len(x_examples)\n",
    "\n",
    "    def _loss(self, x, y):\n",
    "        z = self._dot_product(self.w, x) + self.b\n",
    "        return -y * math.log(self._sigmoid(z)) - (1 - y) * math.log(1- self._sigmoid(z))\n",
    "\n",
    "    def _d_cost_function_w(self, x_train, y_train):\n",
    "        delta_w = [0] * len(x_train[0])\n",
    "        for i in range(len(x_train)):\n",
    "            error = self._sigmoid(self._dot_product(self.w, x_train[i]) + self.b) - y_train[i]\n",
    "            for j in range(len(delta_w)):\n",
    "                delta_w[j] += error * x_train[i][j]\n",
    "        for i in range(len(delta_w)):\n",
    "            delta_w[i] = delta_w[i] / len(x_train)\n",
    "        return delta_w\n",
    "\n",
    "    def _d_cost_function_b(self, x_train, y_train):\n",
    "        delta_b = 0\n",
    "        for i in range(len(x_train)):\n",
    "            delta_b += self._sigmoid(self._dot_product(self.w, x_train[i]) + self.b) - y_train[i]\n",
    "        return delta_b / len(x_train)\n",
    "\n",
    "    def predict(self, x):\n",
    "        if self._sigmoid( self._dot_product(self.w, x) + self.b) >= 0.5:\n",
    "            return 1\n",
    "        else:\n",
    "            return 0\n",
    "\n",
    "    def _dot_product(self, a, b):\n",
    "        return sum(pair[0] * pair[1] for pair in zip(a, b))\n",
    "\n",
    "    def _sigmoid(self, exponent):\n",
    "        return 1 / (1 + math.exp(-exponent))\n",
    "\n",
    "\n",
    "\n",
    "x_train = [[0.5, 1.5], [1,1], [1.5, 0.5], [3, 0.5], [2, 2], [1, 2.5]]\n",
    "y_train = [0, 0, 0, 1, 1, 1]\n",
    "\n",
    "regressor = LogisticRegressor([0, 0], 0, 0.1)\n",
    "regressor.fit(x_train, y_train)\n",
    "\n",
    "for example in x_train:\n",
    "    print(f\"Prediction for {example} is {regressor.predict(example)}\")\n",
    "\n",
    "print(regressor.cost(x_train, y_train))\n"
   ]
  },
  {
   "cell_type": "markdown",
   "id": "c49eefcc",
   "metadata": {
    "papermill": {
     "duration": 0.011528,
     "end_time": "2023-05-19T23:01:28.758617",
     "exception": false,
     "start_time": "2023-05-19T23:01:28.747089",
     "status": "completed"
    },
    "tags": []
   },
   "source": [
    "As we can see from the output, our classifier is currently predicting only a 1, and its cost is about 0.69.\n",
    "\n",
    "## What to Do\n",
    "\n",
    "Your goal is to implement, in the code cell above, the `fit` function. When complete, you should see results identical to the output shown at the end of the *Exploration: Applying Logistic Regression*.\n",
    "\n",
    "1. Implement the `fit` function in the code cell above.\n",
    "2. Run the code cell frequently, and observe the output.\n",
    "3. When you believe your implementation is complete, increase the number of iterations. Compare your output to what we have seen in the corresponding Exploration.\n",
    "4. Rely on the functions that are already implemented for you, such as `_d_cost_function_b` and `_d_cost_function_w`.\n",
    "\n",
    "The best tip for thinking about this challenge is to become intimately familiar with the process of gradient descent, and recognizing what `_d_cost_function_b` and `_d_cost_function_w` return. **Use the comments in the `fit` function as a general guide, not a literal line-by-line translation into code.**\n",
    "\n",
    "You'll know your implementation is sound when the output of the code cell matches what we have seen in the *Exploration: Applying Logistic Regression*."
   ]
  },
  {
   "cell_type": "markdown",
   "id": "a5d77a82",
   "metadata": {
    "papermill": {
     "duration": 0.011766,
     "end_time": "2023-05-19T23:01:28.782624",
     "exception": false,
     "start_time": "2023-05-19T23:01:28.770858",
     "status": "completed"
    },
    "tags": []
   },
   "source": [
    "## 💡 Conclusion\n",
    "\n",
    "I first started by looking back at my notebook for linear regression. After familiarizing myself with the general flow, I examined the cost functions to see what the outputs were and to check and make sure they included the changes needed for a logistic regression. I was happy to see the cost function already looped through the weights and provided a list. After that, it was easy to follow the pseudocode and simply invoke the existing functions. The only slight change I made from the process in the linear regression code was waiting to multiply by the alpha until the line that updated the weights and bias. I only realized I needed to do this when I ran the code and experienced an error. I changed the number of steps as shown in the exploration and got the same results."
   ]
  },
  {
   "cell_type": "markdown",
   "id": "bd1ad1e3",
   "metadata": {
    "papermill": {
     "duration": 0.011633,
     "end_time": "2023-05-19T23:01:28.806620",
     "exception": false,
     "start_time": "2023-05-19T23:01:28.794987",
     "status": "completed"
    },
    "tags": []
   },
   "source": [
    "# Part 2: Classifying Fashion Items\n",
    "\n",
    "In this, the second, part of this notebook, you will observe a non-annotated implementation of a machine learning process, and enhance it with descriptive markdown cells and additional code. Your goal is to narrate and improve an experiment that measures the performance of the [scikit-learn LogisticRegression](https://scikit-learn.org/stable/modules/generated/sklearn.linear_model.LogisticRegression.html) model for classifying images of fashion items. We'll use the popular [Fashion MNIST data set](https://github.com/zalandoresearch/fashion-mnist) by Xiao, Rasul, and Vollgraf. Take a moment now to [familiarize yourself with the version of this data set](), and also take a look at [a version of this data on Kaggle](https://www.kaggle.com/datasets/zalando-research/fashionmnist).\n",
    "\n",
    "Unlike prior notebooks, in which you are given either a guided framework of steps, or provided explicit code to try, in this notebook the code shall be your framework. Your goal is to break apart this one big code cell into a cohesive, multi-section, narrated Notebook, that guides the reader through the machine learning process. You have seen and practiced this in prior Notebooks, and you are encouraged to replicate the spirit of our past work here.\n",
    "\n",
    "In other words, below you have a bunch of code. Your goal is to:\n",
    "\n",
    "1. Narrate a machine learning process\n",
    "2. Explain what the code is doing, and add to it as necessary\n",
    "3. Experiment, tune the model, and discuss your results\n",
    "\n",
    "Your Notebook should consist of many sections, with each section representing a step in the machine learning process. The first section, **Problem Statement**, has been completed for you. Each section should start with a markdown cell containing a descriptive second-level header, and at least a few sentences that prepare the reader for what the purpose of the step is.\n",
    "\n",
    "Each section should consist of both prose, in markdown cells, and code cells. Almost every section should consist of multiple markdown and code cells. You should often add to the provided code. For example, if you have a section on exploring data, you should probably do more than just look at the `head` and `shape`.\n",
    "\n",
    "Your first step is to run the code block, and spend time with each line of code to discern how it reflects some unit of work in our machine learning process.\n",
    "\n",
    "In the end, demonstrate how you modify the experiment and/or tune the model to increase the accuracy of the model. (Spend time with the [official documentation of the data set](https://github.com/zalandoresearch/fashion-mnist). What is the human accuracy score? Can your model surpass it when validated with the complete training set?)\n"
   ]
  },
  {
   "cell_type": "markdown",
   "id": "17a22e87",
   "metadata": {
    "papermill": {
     "duration": 0.011516,
     "end_time": "2023-05-19T23:01:28.829876",
     "exception": false,
     "start_time": "2023-05-19T23:01:28.818360",
     "status": "completed"
    },
    "tags": []
   },
   "source": [
    "## Problem Statement\n",
    "\n",
    "Our goal is to automate the identification of images of ten different kinds of fashion items, from t-shirts to ankle boots. To do so, we will attempt to train a logistic regression model using a well-prepared data set of images of fashion items. Our goal is to tune our end-to-end machine learning process, and to tune our classification model, to see how accurately it may predict the correct class label of different fashion items."
   ]
  },
  {
   "cell_type": "markdown",
   "id": "42c7a368",
   "metadata": {
    "papermill": {
     "duration": 0.011863,
     "end_time": "2023-05-19T23:01:28.853803",
     "exception": false,
     "start_time": "2023-05-19T23:01:28.841940",
     "status": "completed"
    },
    "tags": []
   },
   "source": [
    "## Step 1: Exploring the data\n",
    "\n",
    "Our first step in any machine learning process is understanding our data. The data we will be using is the popular Fashion MNIST data set by Xiao, Rasul, and Vollgraf. The data comes from this website: https://www.kaggle.com/datasets/zalando-research/fashionmnist. \n",
    "\n",
    "If you follow the link, you will see it provides two different csv files. One is called \"fashion-mnist_test\" and the other is called \"fashion-mnist_train\". The metadata on the website says the training set has 60,000 examples and the testing set has 10,000 examples. Let's load both into the notebook and print the length of each to check. We will import and use the package pandas to load the csv files."
   ]
  },
  {
   "cell_type": "code",
   "execution_count": 2,
   "id": "1d017346",
   "metadata": {
    "execution": {
     "iopub.execute_input": "2023-05-19T23:01:28.881556Z",
     "iopub.status.busy": "2023-05-19T23:01:28.881076Z",
     "iopub.status.idle": "2023-05-19T23:01:37.098949Z",
     "shell.execute_reply": "2023-05-19T23:01:37.097644Z"
    },
    "papermill": {
     "duration": 8.235062,
     "end_time": "2023-05-19T23:01:37.101362",
     "exception": false,
     "start_time": "2023-05-19T23:01:28.866300",
     "status": "completed"
    },
    "tags": []
   },
   "outputs": [
    {
     "name": "stdout",
     "output_type": "stream",
     "text": [
      "Length of training data: 60000\n",
      "Length of testing data: 10000\n"
     ]
    }
   ],
   "source": [
    "import pandas as pd\n",
    "\n",
    "fashion_data = pd.read_csv('/kaggle/input/fashionmnist/fashion-mnist_train.csv')\n",
    "fashion_test_set = pd.read_csv('/kaggle/input/fashionmnist/fashion-mnist_test.csv')\n",
    "print(\"Length of training data: \" + str(len(fashion_data)))\n",
    "print(\"Length of testing data: \" + str(len(fashion_test_set)))   "
   ]
  },
  {
   "cell_type": "markdown",
   "id": "25281aa3",
   "metadata": {
    "papermill": {
     "duration": 0.011626,
     "end_time": "2023-05-19T23:01:37.125409",
     "exception": false,
     "start_time": "2023-05-19T23:01:37.113783",
     "status": "completed"
    },
    "tags": []
   },
   "source": [
    "This confirms what the website told us. Now let's figure out exactly what the data means. The kaggle website above gives us a very clear description of the data is. Let's read it:\n",
    "\n",
    "\"Each image is 28 pixels in height and 28 pixels in width, for a total of 784 pixels in total. Each pixel has a single pixel-value associated with it, indicating the lightness or darkness of that pixel, with higher numbers meaning darker. This pixel-value is an integer between 0 and 255. The training and test data sets have 785 columns. The first column consists of the class labels (see above), and represents the article of clothing. The rest of the columns contain the pixel-values of the associated image.\"\n",
    "\n",
    "Now let's confirm what the website tells us. "
   ]
  },
  {
   "cell_type": "code",
   "execution_count": 3,
   "id": "83e22ae7",
   "metadata": {
    "execution": {
     "iopub.execute_input": "2023-05-19T23:01:37.152599Z",
     "iopub.status.busy": "2023-05-19T23:01:37.151846Z",
     "iopub.status.idle": "2023-05-19T23:01:37.158883Z",
     "shell.execute_reply": "2023-05-19T23:01:37.157420Z"
    },
    "papermill": {
     "duration": 0.023201,
     "end_time": "2023-05-19T23:01:37.161473",
     "exception": false,
     "start_time": "2023-05-19T23:01:37.138272",
     "status": "completed"
    },
    "tags": []
   },
   "outputs": [
    {
     "name": "stdout",
     "output_type": "stream",
     "text": [
      "Shape of the training set: (60000, 785)\n",
      "Shape of the testing set: (10000, 785)\n"
     ]
    }
   ],
   "source": [
    "print(\"Shape of the training set: \" + str(fashion_data.shape))\n",
    "print(\"Shape of the testing set: \" + str(fashion_test_set.shape))"
   ]
  },
  {
   "cell_type": "markdown",
   "id": "d9243510",
   "metadata": {
    "papermill": {
     "duration": 0.011721,
     "end_time": "2023-05-19T23:01:37.185422",
     "exception": false,
     "start_time": "2023-05-19T23:01:37.173701",
     "status": "completed"
    },
    "tags": []
   },
   "source": [
    "There are 785 columns in both datasets, which makes sense because each picture is 28x28 pixels, so that means there are 784 total. This leaves one column for the labels. Next let's use the pandas `.describe` method to make sure the values for each column are what we expect from our reading."
   ]
  },
  {
   "cell_type": "code",
   "execution_count": 4,
   "id": "c7638270",
   "metadata": {
    "execution": {
     "iopub.execute_input": "2023-05-19T23:01:37.211228Z",
     "iopub.status.busy": "2023-05-19T23:01:37.210813Z",
     "iopub.status.idle": "2023-05-19T23:01:40.584905Z",
     "shell.execute_reply": "2023-05-19T23:01:40.583718Z"
    },
    "papermill": {
     "duration": 3.390422,
     "end_time": "2023-05-19T23:01:40.587899",
     "exception": false,
     "start_time": "2023-05-19T23:01:37.197477",
     "status": "completed"
    },
    "tags": []
   },
   "outputs": [
    {
     "data": {
      "text/html": [
       "<div>\n",
       "<style scoped>\n",
       "    .dataframe tbody tr th:only-of-type {\n",
       "        vertical-align: middle;\n",
       "    }\n",
       "\n",
       "    .dataframe tbody tr th {\n",
       "        vertical-align: top;\n",
       "    }\n",
       "\n",
       "    .dataframe thead th {\n",
       "        text-align: right;\n",
       "    }\n",
       "</style>\n",
       "<table border=\"1\" class=\"dataframe\">\n",
       "  <thead>\n",
       "    <tr style=\"text-align: right;\">\n",
       "      <th></th>\n",
       "      <th>label</th>\n",
       "      <th>pixel1</th>\n",
       "      <th>pixel2</th>\n",
       "      <th>pixel3</th>\n",
       "      <th>pixel4</th>\n",
       "      <th>pixel5</th>\n",
       "      <th>pixel6</th>\n",
       "      <th>pixel7</th>\n",
       "      <th>pixel8</th>\n",
       "      <th>pixel9</th>\n",
       "      <th>...</th>\n",
       "      <th>pixel775</th>\n",
       "      <th>pixel776</th>\n",
       "      <th>pixel777</th>\n",
       "      <th>pixel778</th>\n",
       "      <th>pixel779</th>\n",
       "      <th>pixel780</th>\n",
       "      <th>pixel781</th>\n",
       "      <th>pixel782</th>\n",
       "      <th>pixel783</th>\n",
       "      <th>pixel784</th>\n",
       "    </tr>\n",
       "  </thead>\n",
       "  <tbody>\n",
       "    <tr>\n",
       "      <th>count</th>\n",
       "      <td>60000.000000</td>\n",
       "      <td>60000.000000</td>\n",
       "      <td>60000.000000</td>\n",
       "      <td>60000.000000</td>\n",
       "      <td>60000.000000</td>\n",
       "      <td>60000.000000</td>\n",
       "      <td>60000.000000</td>\n",
       "      <td>60000.000000</td>\n",
       "      <td>60000.000000</td>\n",
       "      <td>60000.000000</td>\n",
       "      <td>...</td>\n",
       "      <td>60000.000000</td>\n",
       "      <td>60000.000000</td>\n",
       "      <td>60000.000000</td>\n",
       "      <td>60000.000000</td>\n",
       "      <td>60000.000000</td>\n",
       "      <td>60000.000000</td>\n",
       "      <td>60000.000000</td>\n",
       "      <td>60000.000000</td>\n",
       "      <td>60000.000000</td>\n",
       "      <td>60000.00000</td>\n",
       "    </tr>\n",
       "    <tr>\n",
       "      <th>mean</th>\n",
       "      <td>4.500000</td>\n",
       "      <td>0.000900</td>\n",
       "      <td>0.006150</td>\n",
       "      <td>0.035333</td>\n",
       "      <td>0.101933</td>\n",
       "      <td>0.247967</td>\n",
       "      <td>0.411467</td>\n",
       "      <td>0.805767</td>\n",
       "      <td>2.198283</td>\n",
       "      <td>5.682000</td>\n",
       "      <td>...</td>\n",
       "      <td>34.625400</td>\n",
       "      <td>23.300683</td>\n",
       "      <td>16.588267</td>\n",
       "      <td>17.869433</td>\n",
       "      <td>22.814817</td>\n",
       "      <td>17.911483</td>\n",
       "      <td>8.520633</td>\n",
       "      <td>2.753300</td>\n",
       "      <td>0.855517</td>\n",
       "      <td>0.07025</td>\n",
       "    </tr>\n",
       "    <tr>\n",
       "      <th>std</th>\n",
       "      <td>2.872305</td>\n",
       "      <td>0.094689</td>\n",
       "      <td>0.271011</td>\n",
       "      <td>1.222324</td>\n",
       "      <td>2.452871</td>\n",
       "      <td>4.306912</td>\n",
       "      <td>5.836188</td>\n",
       "      <td>8.215169</td>\n",
       "      <td>14.093378</td>\n",
       "      <td>23.819481</td>\n",
       "      <td>...</td>\n",
       "      <td>57.545242</td>\n",
       "      <td>48.854427</td>\n",
       "      <td>41.979611</td>\n",
       "      <td>43.966032</td>\n",
       "      <td>51.830477</td>\n",
       "      <td>45.149388</td>\n",
       "      <td>29.614859</td>\n",
       "      <td>17.397652</td>\n",
       "      <td>9.356960</td>\n",
       "      <td>2.12587</td>\n",
       "    </tr>\n",
       "    <tr>\n",
       "      <th>min</th>\n",
       "      <td>0.000000</td>\n",
       "      <td>0.000000</td>\n",
       "      <td>0.000000</td>\n",
       "      <td>0.000000</td>\n",
       "      <td>0.000000</td>\n",
       "      <td>0.000000</td>\n",
       "      <td>0.000000</td>\n",
       "      <td>0.000000</td>\n",
       "      <td>0.000000</td>\n",
       "      <td>0.000000</td>\n",
       "      <td>...</td>\n",
       "      <td>0.000000</td>\n",
       "      <td>0.000000</td>\n",
       "      <td>0.000000</td>\n",
       "      <td>0.000000</td>\n",
       "      <td>0.000000</td>\n",
       "      <td>0.000000</td>\n",
       "      <td>0.000000</td>\n",
       "      <td>0.000000</td>\n",
       "      <td>0.000000</td>\n",
       "      <td>0.00000</td>\n",
       "    </tr>\n",
       "    <tr>\n",
       "      <th>25%</th>\n",
       "      <td>2.000000</td>\n",
       "      <td>0.000000</td>\n",
       "      <td>0.000000</td>\n",
       "      <td>0.000000</td>\n",
       "      <td>0.000000</td>\n",
       "      <td>0.000000</td>\n",
       "      <td>0.000000</td>\n",
       "      <td>0.000000</td>\n",
       "      <td>0.000000</td>\n",
       "      <td>0.000000</td>\n",
       "      <td>...</td>\n",
       "      <td>0.000000</td>\n",
       "      <td>0.000000</td>\n",
       "      <td>0.000000</td>\n",
       "      <td>0.000000</td>\n",
       "      <td>0.000000</td>\n",
       "      <td>0.000000</td>\n",
       "      <td>0.000000</td>\n",
       "      <td>0.000000</td>\n",
       "      <td>0.000000</td>\n",
       "      <td>0.00000</td>\n",
       "    </tr>\n",
       "    <tr>\n",
       "      <th>50%</th>\n",
       "      <td>4.500000</td>\n",
       "      <td>0.000000</td>\n",
       "      <td>0.000000</td>\n",
       "      <td>0.000000</td>\n",
       "      <td>0.000000</td>\n",
       "      <td>0.000000</td>\n",
       "      <td>0.000000</td>\n",
       "      <td>0.000000</td>\n",
       "      <td>0.000000</td>\n",
       "      <td>0.000000</td>\n",
       "      <td>...</td>\n",
       "      <td>0.000000</td>\n",
       "      <td>0.000000</td>\n",
       "      <td>0.000000</td>\n",
       "      <td>0.000000</td>\n",
       "      <td>0.000000</td>\n",
       "      <td>0.000000</td>\n",
       "      <td>0.000000</td>\n",
       "      <td>0.000000</td>\n",
       "      <td>0.000000</td>\n",
       "      <td>0.00000</td>\n",
       "    </tr>\n",
       "    <tr>\n",
       "      <th>75%</th>\n",
       "      <td>7.000000</td>\n",
       "      <td>0.000000</td>\n",
       "      <td>0.000000</td>\n",
       "      <td>0.000000</td>\n",
       "      <td>0.000000</td>\n",
       "      <td>0.000000</td>\n",
       "      <td>0.000000</td>\n",
       "      <td>0.000000</td>\n",
       "      <td>0.000000</td>\n",
       "      <td>0.000000</td>\n",
       "      <td>...</td>\n",
       "      <td>58.000000</td>\n",
       "      <td>9.000000</td>\n",
       "      <td>0.000000</td>\n",
       "      <td>0.000000</td>\n",
       "      <td>0.000000</td>\n",
       "      <td>0.000000</td>\n",
       "      <td>0.000000</td>\n",
       "      <td>0.000000</td>\n",
       "      <td>0.000000</td>\n",
       "      <td>0.00000</td>\n",
       "    </tr>\n",
       "    <tr>\n",
       "      <th>max</th>\n",
       "      <td>9.000000</td>\n",
       "      <td>16.000000</td>\n",
       "      <td>36.000000</td>\n",
       "      <td>226.000000</td>\n",
       "      <td>164.000000</td>\n",
       "      <td>227.000000</td>\n",
       "      <td>230.000000</td>\n",
       "      <td>224.000000</td>\n",
       "      <td>255.000000</td>\n",
       "      <td>254.000000</td>\n",
       "      <td>...</td>\n",
       "      <td>255.000000</td>\n",
       "      <td>255.000000</td>\n",
       "      <td>255.000000</td>\n",
       "      <td>255.000000</td>\n",
       "      <td>255.000000</td>\n",
       "      <td>255.000000</td>\n",
       "      <td>255.000000</td>\n",
       "      <td>255.000000</td>\n",
       "      <td>255.000000</td>\n",
       "      <td>170.00000</td>\n",
       "    </tr>\n",
       "  </tbody>\n",
       "</table>\n",
       "<p>8 rows × 785 columns</p>\n",
       "</div>"
      ],
      "text/plain": [
       "              label        pixel1        pixel2        pixel3        pixel4  \\\n",
       "count  60000.000000  60000.000000  60000.000000  60000.000000  60000.000000   \n",
       "mean       4.500000      0.000900      0.006150      0.035333      0.101933   \n",
       "std        2.872305      0.094689      0.271011      1.222324      2.452871   \n",
       "min        0.000000      0.000000      0.000000      0.000000      0.000000   \n",
       "25%        2.000000      0.000000      0.000000      0.000000      0.000000   \n",
       "50%        4.500000      0.000000      0.000000      0.000000      0.000000   \n",
       "75%        7.000000      0.000000      0.000000      0.000000      0.000000   \n",
       "max        9.000000     16.000000     36.000000    226.000000    164.000000   \n",
       "\n",
       "             pixel5        pixel6        pixel7        pixel8        pixel9  \\\n",
       "count  60000.000000  60000.000000  60000.000000  60000.000000  60000.000000   \n",
       "mean       0.247967      0.411467      0.805767      2.198283      5.682000   \n",
       "std        4.306912      5.836188      8.215169     14.093378     23.819481   \n",
       "min        0.000000      0.000000      0.000000      0.000000      0.000000   \n",
       "25%        0.000000      0.000000      0.000000      0.000000      0.000000   \n",
       "50%        0.000000      0.000000      0.000000      0.000000      0.000000   \n",
       "75%        0.000000      0.000000      0.000000      0.000000      0.000000   \n",
       "max      227.000000    230.000000    224.000000    255.000000    254.000000   \n",
       "\n",
       "       ...      pixel775      pixel776      pixel777      pixel778  \\\n",
       "count  ...  60000.000000  60000.000000  60000.000000  60000.000000   \n",
       "mean   ...     34.625400     23.300683     16.588267     17.869433   \n",
       "std    ...     57.545242     48.854427     41.979611     43.966032   \n",
       "min    ...      0.000000      0.000000      0.000000      0.000000   \n",
       "25%    ...      0.000000      0.000000      0.000000      0.000000   \n",
       "50%    ...      0.000000      0.000000      0.000000      0.000000   \n",
       "75%    ...     58.000000      9.000000      0.000000      0.000000   \n",
       "max    ...    255.000000    255.000000    255.000000    255.000000   \n",
       "\n",
       "           pixel779      pixel780      pixel781      pixel782      pixel783  \\\n",
       "count  60000.000000  60000.000000  60000.000000  60000.000000  60000.000000   \n",
       "mean      22.814817     17.911483      8.520633      2.753300      0.855517   \n",
       "std       51.830477     45.149388     29.614859     17.397652      9.356960   \n",
       "min        0.000000      0.000000      0.000000      0.000000      0.000000   \n",
       "25%        0.000000      0.000000      0.000000      0.000000      0.000000   \n",
       "50%        0.000000      0.000000      0.000000      0.000000      0.000000   \n",
       "75%        0.000000      0.000000      0.000000      0.000000      0.000000   \n",
       "max      255.000000    255.000000    255.000000    255.000000    255.000000   \n",
       "\n",
       "          pixel784  \n",
       "count  60000.00000  \n",
       "mean       0.07025  \n",
       "std        2.12587  \n",
       "min        0.00000  \n",
       "25%        0.00000  \n",
       "50%        0.00000  \n",
       "75%        0.00000  \n",
       "max      170.00000  \n",
       "\n",
       "[8 rows x 785 columns]"
      ]
     },
     "execution_count": 4,
     "metadata": {},
     "output_type": "execute_result"
    }
   ],
   "source": [
    "fashion_data.describe()"
   ]
  },
  {
   "cell_type": "markdown",
   "id": "682265cb",
   "metadata": {
    "papermill": {
     "duration": 0.012005,
     "end_time": "2023-05-19T23:01:40.612527",
     "exception": false,
     "start_time": "2023-05-19T23:01:40.600522",
     "status": "completed"
    },
    "tags": []
   },
   "source": [
    "We see that the 'label' column is indeed the first column, and that it ranges from 0 to 9. We also see all the columns for the pixels, with values ranging from 0 to 255 as expected. This all looks great. Let's check the testing set."
   ]
  },
  {
   "cell_type": "code",
   "execution_count": 5,
   "id": "4571b38d",
   "metadata": {
    "execution": {
     "iopub.execute_input": "2023-05-19T23:01:40.639524Z",
     "iopub.status.busy": "2023-05-19T23:01:40.638878Z",
     "iopub.status.idle": "2023-05-19T23:01:42.664134Z",
     "shell.execute_reply": "2023-05-19T23:01:42.662914Z"
    },
    "papermill": {
     "duration": 2.041997,
     "end_time": "2023-05-19T23:01:42.666943",
     "exception": false,
     "start_time": "2023-05-19T23:01:40.624946",
     "status": "completed"
    },
    "tags": []
   },
   "outputs": [
    {
     "data": {
      "text/html": [
       "<div>\n",
       "<style scoped>\n",
       "    .dataframe tbody tr th:only-of-type {\n",
       "        vertical-align: middle;\n",
       "    }\n",
       "\n",
       "    .dataframe tbody tr th {\n",
       "        vertical-align: top;\n",
       "    }\n",
       "\n",
       "    .dataframe thead th {\n",
       "        text-align: right;\n",
       "    }\n",
       "</style>\n",
       "<table border=\"1\" class=\"dataframe\">\n",
       "  <thead>\n",
       "    <tr style=\"text-align: right;\">\n",
       "      <th></th>\n",
       "      <th>label</th>\n",
       "      <th>pixel1</th>\n",
       "      <th>pixel2</th>\n",
       "      <th>pixel3</th>\n",
       "      <th>pixel4</th>\n",
       "      <th>pixel5</th>\n",
       "      <th>pixel6</th>\n",
       "      <th>pixel7</th>\n",
       "      <th>pixel8</th>\n",
       "      <th>pixel9</th>\n",
       "      <th>...</th>\n",
       "      <th>pixel775</th>\n",
       "      <th>pixel776</th>\n",
       "      <th>pixel777</th>\n",
       "      <th>pixel778</th>\n",
       "      <th>pixel779</th>\n",
       "      <th>pixel780</th>\n",
       "      <th>pixel781</th>\n",
       "      <th>pixel782</th>\n",
       "      <th>pixel783</th>\n",
       "      <th>pixel784</th>\n",
       "    </tr>\n",
       "  </thead>\n",
       "  <tbody>\n",
       "    <tr>\n",
       "      <th>count</th>\n",
       "      <td>10000.000000</td>\n",
       "      <td>10000.000000</td>\n",
       "      <td>10000.000000</td>\n",
       "      <td>10000.000000</td>\n",
       "      <td>10000.000000</td>\n",
       "      <td>10000.000000</td>\n",
       "      <td>10000.000000</td>\n",
       "      <td>10000.000000</td>\n",
       "      <td>10000.000000</td>\n",
       "      <td>10000.000000</td>\n",
       "      <td>...</td>\n",
       "      <td>10000.000000</td>\n",
       "      <td>10000.000000</td>\n",
       "      <td>10000.000000</td>\n",
       "      <td>10000.000000</td>\n",
       "      <td>10000.000000</td>\n",
       "      <td>10000.000000</td>\n",
       "      <td>10000.000000</td>\n",
       "      <td>10000.000000</td>\n",
       "      <td>10000.000000</td>\n",
       "      <td>10000.00000</td>\n",
       "    </tr>\n",
       "    <tr>\n",
       "      <th>mean</th>\n",
       "      <td>4.500000</td>\n",
       "      <td>0.000400</td>\n",
       "      <td>0.010300</td>\n",
       "      <td>0.052100</td>\n",
       "      <td>0.077000</td>\n",
       "      <td>0.208600</td>\n",
       "      <td>0.349200</td>\n",
       "      <td>0.826700</td>\n",
       "      <td>2.321200</td>\n",
       "      <td>5.457800</td>\n",
       "      <td>...</td>\n",
       "      <td>34.320800</td>\n",
       "      <td>23.071900</td>\n",
       "      <td>16.432000</td>\n",
       "      <td>17.870600</td>\n",
       "      <td>22.860000</td>\n",
       "      <td>17.790200</td>\n",
       "      <td>8.353500</td>\n",
       "      <td>2.541600</td>\n",
       "      <td>0.629500</td>\n",
       "      <td>0.06560</td>\n",
       "    </tr>\n",
       "    <tr>\n",
       "      <th>std</th>\n",
       "      <td>2.872425</td>\n",
       "      <td>0.024493</td>\n",
       "      <td>0.525187</td>\n",
       "      <td>2.494315</td>\n",
       "      <td>2.208882</td>\n",
       "      <td>4.669183</td>\n",
       "      <td>5.657849</td>\n",
       "      <td>8.591731</td>\n",
       "      <td>15.031508</td>\n",
       "      <td>23.359019</td>\n",
       "      <td>...</td>\n",
       "      <td>57.888679</td>\n",
       "      <td>49.049749</td>\n",
       "      <td>42.159665</td>\n",
       "      <td>44.140552</td>\n",
       "      <td>51.706601</td>\n",
       "      <td>45.128107</td>\n",
       "      <td>28.765769</td>\n",
       "      <td>16.417363</td>\n",
       "      <td>7.462533</td>\n",
       "      <td>1.93403</td>\n",
       "    </tr>\n",
       "    <tr>\n",
       "      <th>min</th>\n",
       "      <td>0.000000</td>\n",
       "      <td>0.000000</td>\n",
       "      <td>0.000000</td>\n",
       "      <td>0.000000</td>\n",
       "      <td>0.000000</td>\n",
       "      <td>0.000000</td>\n",
       "      <td>0.000000</td>\n",
       "      <td>0.000000</td>\n",
       "      <td>0.000000</td>\n",
       "      <td>0.000000</td>\n",
       "      <td>...</td>\n",
       "      <td>0.000000</td>\n",
       "      <td>0.000000</td>\n",
       "      <td>0.000000</td>\n",
       "      <td>0.000000</td>\n",
       "      <td>0.000000</td>\n",
       "      <td>0.000000</td>\n",
       "      <td>0.000000</td>\n",
       "      <td>0.000000</td>\n",
       "      <td>0.000000</td>\n",
       "      <td>0.00000</td>\n",
       "    </tr>\n",
       "    <tr>\n",
       "      <th>25%</th>\n",
       "      <td>2.000000</td>\n",
       "      <td>0.000000</td>\n",
       "      <td>0.000000</td>\n",
       "      <td>0.000000</td>\n",
       "      <td>0.000000</td>\n",
       "      <td>0.000000</td>\n",
       "      <td>0.000000</td>\n",
       "      <td>0.000000</td>\n",
       "      <td>0.000000</td>\n",
       "      <td>0.000000</td>\n",
       "      <td>...</td>\n",
       "      <td>0.000000</td>\n",
       "      <td>0.000000</td>\n",
       "      <td>0.000000</td>\n",
       "      <td>0.000000</td>\n",
       "      <td>0.000000</td>\n",
       "      <td>0.000000</td>\n",
       "      <td>0.000000</td>\n",
       "      <td>0.000000</td>\n",
       "      <td>0.000000</td>\n",
       "      <td>0.00000</td>\n",
       "    </tr>\n",
       "    <tr>\n",
       "      <th>50%</th>\n",
       "      <td>4.500000</td>\n",
       "      <td>0.000000</td>\n",
       "      <td>0.000000</td>\n",
       "      <td>0.000000</td>\n",
       "      <td>0.000000</td>\n",
       "      <td>0.000000</td>\n",
       "      <td>0.000000</td>\n",
       "      <td>0.000000</td>\n",
       "      <td>0.000000</td>\n",
       "      <td>0.000000</td>\n",
       "      <td>...</td>\n",
       "      <td>0.000000</td>\n",
       "      <td>0.000000</td>\n",
       "      <td>0.000000</td>\n",
       "      <td>0.000000</td>\n",
       "      <td>0.000000</td>\n",
       "      <td>0.000000</td>\n",
       "      <td>0.000000</td>\n",
       "      <td>0.000000</td>\n",
       "      <td>0.000000</td>\n",
       "      <td>0.00000</td>\n",
       "    </tr>\n",
       "    <tr>\n",
       "      <th>75%</th>\n",
       "      <td>7.000000</td>\n",
       "      <td>0.000000</td>\n",
       "      <td>0.000000</td>\n",
       "      <td>0.000000</td>\n",
       "      <td>0.000000</td>\n",
       "      <td>0.000000</td>\n",
       "      <td>0.000000</td>\n",
       "      <td>0.000000</td>\n",
       "      <td>0.000000</td>\n",
       "      <td>0.000000</td>\n",
       "      <td>...</td>\n",
       "      <td>55.000000</td>\n",
       "      <td>6.000000</td>\n",
       "      <td>0.000000</td>\n",
       "      <td>0.000000</td>\n",
       "      <td>1.000000</td>\n",
       "      <td>0.000000</td>\n",
       "      <td>0.000000</td>\n",
       "      <td>0.000000</td>\n",
       "      <td>0.000000</td>\n",
       "      <td>0.00000</td>\n",
       "    </tr>\n",
       "    <tr>\n",
       "      <th>max</th>\n",
       "      <td>9.000000</td>\n",
       "      <td>2.000000</td>\n",
       "      <td>45.000000</td>\n",
       "      <td>218.000000</td>\n",
       "      <td>185.000000</td>\n",
       "      <td>227.000000</td>\n",
       "      <td>223.000000</td>\n",
       "      <td>247.000000</td>\n",
       "      <td>218.000000</td>\n",
       "      <td>244.000000</td>\n",
       "      <td>...</td>\n",
       "      <td>254.000000</td>\n",
       "      <td>252.000000</td>\n",
       "      <td>255.000000</td>\n",
       "      <td>255.000000</td>\n",
       "      <td>255.000000</td>\n",
       "      <td>255.000000</td>\n",
       "      <td>240.000000</td>\n",
       "      <td>225.000000</td>\n",
       "      <td>205.000000</td>\n",
       "      <td>107.00000</td>\n",
       "    </tr>\n",
       "  </tbody>\n",
       "</table>\n",
       "<p>8 rows × 785 columns</p>\n",
       "</div>"
      ],
      "text/plain": [
       "              label        pixel1        pixel2        pixel3        pixel4  \\\n",
       "count  10000.000000  10000.000000  10000.000000  10000.000000  10000.000000   \n",
       "mean       4.500000      0.000400      0.010300      0.052100      0.077000   \n",
       "std        2.872425      0.024493      0.525187      2.494315      2.208882   \n",
       "min        0.000000      0.000000      0.000000      0.000000      0.000000   \n",
       "25%        2.000000      0.000000      0.000000      0.000000      0.000000   \n",
       "50%        4.500000      0.000000      0.000000      0.000000      0.000000   \n",
       "75%        7.000000      0.000000      0.000000      0.000000      0.000000   \n",
       "max        9.000000      2.000000     45.000000    218.000000    185.000000   \n",
       "\n",
       "             pixel5        pixel6        pixel7        pixel8        pixel9  \\\n",
       "count  10000.000000  10000.000000  10000.000000  10000.000000  10000.000000   \n",
       "mean       0.208600      0.349200      0.826700      2.321200      5.457800   \n",
       "std        4.669183      5.657849      8.591731     15.031508     23.359019   \n",
       "min        0.000000      0.000000      0.000000      0.000000      0.000000   \n",
       "25%        0.000000      0.000000      0.000000      0.000000      0.000000   \n",
       "50%        0.000000      0.000000      0.000000      0.000000      0.000000   \n",
       "75%        0.000000      0.000000      0.000000      0.000000      0.000000   \n",
       "max      227.000000    223.000000    247.000000    218.000000    244.000000   \n",
       "\n",
       "       ...      pixel775      pixel776      pixel777      pixel778  \\\n",
       "count  ...  10000.000000  10000.000000  10000.000000  10000.000000   \n",
       "mean   ...     34.320800     23.071900     16.432000     17.870600   \n",
       "std    ...     57.888679     49.049749     42.159665     44.140552   \n",
       "min    ...      0.000000      0.000000      0.000000      0.000000   \n",
       "25%    ...      0.000000      0.000000      0.000000      0.000000   \n",
       "50%    ...      0.000000      0.000000      0.000000      0.000000   \n",
       "75%    ...     55.000000      6.000000      0.000000      0.000000   \n",
       "max    ...    254.000000    252.000000    255.000000    255.000000   \n",
       "\n",
       "           pixel779      pixel780      pixel781      pixel782      pixel783  \\\n",
       "count  10000.000000  10000.000000  10000.000000  10000.000000  10000.000000   \n",
       "mean      22.860000     17.790200      8.353500      2.541600      0.629500   \n",
       "std       51.706601     45.128107     28.765769     16.417363      7.462533   \n",
       "min        0.000000      0.000000      0.000000      0.000000      0.000000   \n",
       "25%        0.000000      0.000000      0.000000      0.000000      0.000000   \n",
       "50%        0.000000      0.000000      0.000000      0.000000      0.000000   \n",
       "75%        1.000000      0.000000      0.000000      0.000000      0.000000   \n",
       "max      255.000000    255.000000    240.000000    225.000000    205.000000   \n",
       "\n",
       "          pixel784  \n",
       "count  10000.00000  \n",
       "mean       0.06560  \n",
       "std        1.93403  \n",
       "min        0.00000  \n",
       "25%        0.00000  \n",
       "50%        0.00000  \n",
       "75%        0.00000  \n",
       "max      107.00000  \n",
       "\n",
       "[8 rows x 785 columns]"
      ]
     },
     "execution_count": 5,
     "metadata": {},
     "output_type": "execute_result"
    }
   ],
   "source": [
    "fashion_test_set.describe()"
   ]
  },
  {
   "cell_type": "markdown",
   "id": "386dab09",
   "metadata": {
    "papermill": {
     "duration": 0.012925,
     "end_time": "2023-05-19T23:01:42.693891",
     "exception": false,
     "start_time": "2023-05-19T23:01:42.680966",
     "status": "completed"
    },
    "tags": []
   },
   "source": [
    "We see the same things for the testing set as we saw for the training set.\n",
    "\n",
    "Let's make sure we understand the 'label' column. From the kaggle website that provides that data, it tells is that each integer from 0 to 9 represents a different type of clothing. The key is provided below: \n",
    "\n",
    "0 T-shirt/top,\n",
    "1 Trouser,\n",
    "2 Pullover,\n",
    "3 Dress,\n",
    "4 Coat,\n",
    "5 Sandal,\n",
    "6 Shirt,\n",
    "7 Sneaker,\n",
    "8 Bag,\n",
    "9 Ankle boot.\n",
    "\n",
    "It will be helpful later on to create a python dictionary mapping these numbers to the description. We will create that below:"
   ]
  },
  {
   "cell_type": "code",
   "execution_count": 6,
   "id": "a45b78cb",
   "metadata": {
    "execution": {
     "iopub.execute_input": "2023-05-19T23:01:42.722987Z",
     "iopub.status.busy": "2023-05-19T23:01:42.722205Z",
     "iopub.status.idle": "2023-05-19T23:01:42.728887Z",
     "shell.execute_reply": "2023-05-19T23:01:42.727769Z"
    },
    "papermill": {
     "duration": 0.02431,
     "end_time": "2023-05-19T23:01:42.731521",
     "exception": false,
     "start_time": "2023-05-19T23:01:42.707211",
     "status": "completed"
    },
    "tags": []
   },
   "outputs": [],
   "source": [
    "labels = {\n",
    "    0: 'T-shirt / Top',\n",
    "    1: 'Trouser',\n",
    "    2: 'Pullover',\n",
    "    3: 'Dress',\n",
    "    4: 'Coat',\n",
    "    5: 'Sandal',\n",
    "    6: 'Shirt',\n",
    "    7: 'Sneaker',\n",
    "    8: 'Bag',\n",
    "    9: 'Ankle Boot'\n",
    "}"
   ]
  },
  {
   "cell_type": "markdown",
   "id": "389b963f",
   "metadata": {
    "papermill": {
     "duration": 0.012676,
     "end_time": "2023-05-19T23:01:42.757422",
     "exception": false,
     "start_time": "2023-05-19T23:01:42.744746",
     "status": "completed"
    },
    "tags": []
   },
   "source": [
    "We now have a solid understanding of the data we are using. The next step is getting the data ready for input into our machine learning algorithm.  \n",
    "\n",
    "## Step 2: Getting the data ready for training and testing\n",
    "\n",
    "Our first step is splitting the labels from the features. The labels are in the first column, and we can use that information to divide up the dataframe. The features will be stored in the variable \"X\", and all the labels will be stored in the variable \"Y\". Let's check using the `.head` method from pandas to make sure we split the data correctly. "
   ]
  },
  {
   "cell_type": "code",
   "execution_count": 7,
   "id": "c3786e7c",
   "metadata": {
    "execution": {
     "iopub.execute_input": "2023-05-19T23:01:42.785959Z",
     "iopub.status.busy": "2023-05-19T23:01:42.785508Z",
     "iopub.status.idle": "2023-05-19T23:01:42.923861Z",
     "shell.execute_reply": "2023-05-19T23:01:42.922715Z"
    },
    "papermill": {
     "duration": 0.15574,
     "end_time": "2023-05-19T23:01:42.926525",
     "exception": false,
     "start_time": "2023-05-19T23:01:42.770785",
     "status": "completed"
    },
    "tags": []
   },
   "outputs": [
    {
     "data": {
      "text/html": [
       "<div>\n",
       "<style scoped>\n",
       "    .dataframe tbody tr th:only-of-type {\n",
       "        vertical-align: middle;\n",
       "    }\n",
       "\n",
       "    .dataframe tbody tr th {\n",
       "        vertical-align: top;\n",
       "    }\n",
       "\n",
       "    .dataframe thead th {\n",
       "        text-align: right;\n",
       "    }\n",
       "</style>\n",
       "<table border=\"1\" class=\"dataframe\">\n",
       "  <thead>\n",
       "    <tr style=\"text-align: right;\">\n",
       "      <th></th>\n",
       "      <th>pixel1</th>\n",
       "      <th>pixel2</th>\n",
       "      <th>pixel3</th>\n",
       "      <th>pixel4</th>\n",
       "      <th>pixel5</th>\n",
       "      <th>pixel6</th>\n",
       "      <th>pixel7</th>\n",
       "      <th>pixel8</th>\n",
       "      <th>pixel9</th>\n",
       "      <th>pixel10</th>\n",
       "      <th>...</th>\n",
       "      <th>pixel775</th>\n",
       "      <th>pixel776</th>\n",
       "      <th>pixel777</th>\n",
       "      <th>pixel778</th>\n",
       "      <th>pixel779</th>\n",
       "      <th>pixel780</th>\n",
       "      <th>pixel781</th>\n",
       "      <th>pixel782</th>\n",
       "      <th>pixel783</th>\n",
       "      <th>pixel784</th>\n",
       "    </tr>\n",
       "  </thead>\n",
       "  <tbody>\n",
       "    <tr>\n",
       "      <th>0</th>\n",
       "      <td>0</td>\n",
       "      <td>0</td>\n",
       "      <td>0</td>\n",
       "      <td>0</td>\n",
       "      <td>0</td>\n",
       "      <td>0</td>\n",
       "      <td>0</td>\n",
       "      <td>0</td>\n",
       "      <td>0</td>\n",
       "      <td>0</td>\n",
       "      <td>...</td>\n",
       "      <td>0</td>\n",
       "      <td>0</td>\n",
       "      <td>0</td>\n",
       "      <td>0</td>\n",
       "      <td>0</td>\n",
       "      <td>0</td>\n",
       "      <td>0</td>\n",
       "      <td>0</td>\n",
       "      <td>0</td>\n",
       "      <td>0</td>\n",
       "    </tr>\n",
       "    <tr>\n",
       "      <th>1</th>\n",
       "      <td>0</td>\n",
       "      <td>0</td>\n",
       "      <td>0</td>\n",
       "      <td>0</td>\n",
       "      <td>0</td>\n",
       "      <td>0</td>\n",
       "      <td>0</td>\n",
       "      <td>0</td>\n",
       "      <td>0</td>\n",
       "      <td>0</td>\n",
       "      <td>...</td>\n",
       "      <td>0</td>\n",
       "      <td>0</td>\n",
       "      <td>0</td>\n",
       "      <td>0</td>\n",
       "      <td>0</td>\n",
       "      <td>0</td>\n",
       "      <td>0</td>\n",
       "      <td>0</td>\n",
       "      <td>0</td>\n",
       "      <td>0</td>\n",
       "    </tr>\n",
       "    <tr>\n",
       "      <th>2</th>\n",
       "      <td>0</td>\n",
       "      <td>0</td>\n",
       "      <td>0</td>\n",
       "      <td>0</td>\n",
       "      <td>0</td>\n",
       "      <td>0</td>\n",
       "      <td>0</td>\n",
       "      <td>5</td>\n",
       "      <td>0</td>\n",
       "      <td>0</td>\n",
       "      <td>...</td>\n",
       "      <td>0</td>\n",
       "      <td>0</td>\n",
       "      <td>0</td>\n",
       "      <td>30</td>\n",
       "      <td>43</td>\n",
       "      <td>0</td>\n",
       "      <td>0</td>\n",
       "      <td>0</td>\n",
       "      <td>0</td>\n",
       "      <td>0</td>\n",
       "    </tr>\n",
       "    <tr>\n",
       "      <th>3</th>\n",
       "      <td>0</td>\n",
       "      <td>0</td>\n",
       "      <td>0</td>\n",
       "      <td>1</td>\n",
       "      <td>2</td>\n",
       "      <td>0</td>\n",
       "      <td>0</td>\n",
       "      <td>0</td>\n",
       "      <td>0</td>\n",
       "      <td>0</td>\n",
       "      <td>...</td>\n",
       "      <td>3</td>\n",
       "      <td>0</td>\n",
       "      <td>0</td>\n",
       "      <td>0</td>\n",
       "      <td>0</td>\n",
       "      <td>1</td>\n",
       "      <td>0</td>\n",
       "      <td>0</td>\n",
       "      <td>0</td>\n",
       "      <td>0</td>\n",
       "    </tr>\n",
       "    <tr>\n",
       "      <th>4</th>\n",
       "      <td>0</td>\n",
       "      <td>0</td>\n",
       "      <td>0</td>\n",
       "      <td>0</td>\n",
       "      <td>0</td>\n",
       "      <td>0</td>\n",
       "      <td>0</td>\n",
       "      <td>0</td>\n",
       "      <td>0</td>\n",
       "      <td>0</td>\n",
       "      <td>...</td>\n",
       "      <td>0</td>\n",
       "      <td>0</td>\n",
       "      <td>0</td>\n",
       "      <td>0</td>\n",
       "      <td>0</td>\n",
       "      <td>0</td>\n",
       "      <td>0</td>\n",
       "      <td>0</td>\n",
       "      <td>0</td>\n",
       "      <td>0</td>\n",
       "    </tr>\n",
       "  </tbody>\n",
       "</table>\n",
       "<p>5 rows × 784 columns</p>\n",
       "</div>"
      ],
      "text/plain": [
       "   pixel1  pixel2  pixel3  pixel4  pixel5  pixel6  pixel7  pixel8  pixel9  \\\n",
       "0       0       0       0       0       0       0       0       0       0   \n",
       "1       0       0       0       0       0       0       0       0       0   \n",
       "2       0       0       0       0       0       0       0       5       0   \n",
       "3       0       0       0       1       2       0       0       0       0   \n",
       "4       0       0       0       0       0       0       0       0       0   \n",
       "\n",
       "   pixel10  ...  pixel775  pixel776  pixel777  pixel778  pixel779  pixel780  \\\n",
       "0        0  ...         0         0         0         0         0         0   \n",
       "1        0  ...         0         0         0         0         0         0   \n",
       "2        0  ...         0         0         0        30        43         0   \n",
       "3        0  ...         3         0         0         0         0         1   \n",
       "4        0  ...         0         0         0         0         0         0   \n",
       "\n",
       "   pixel781  pixel782  pixel783  pixel784  \n",
       "0         0         0         0         0  \n",
       "1         0         0         0         0  \n",
       "2         0         0         0         0  \n",
       "3         0         0         0         0  \n",
       "4         0         0         0         0  \n",
       "\n",
       "[5 rows x 784 columns]"
      ]
     },
     "execution_count": 7,
     "metadata": {},
     "output_type": "execute_result"
    }
   ],
   "source": [
    "X = fashion_data[fashion_data.columns[1:]]\n",
    "Y = fashion_data['label']\n",
    "X.head()\n"
   ]
  },
  {
   "cell_type": "markdown",
   "id": "1e83c0d9",
   "metadata": {
    "papermill": {
     "duration": 0.013071,
     "end_time": "2023-05-19T23:01:42.953136",
     "exception": false,
     "start_time": "2023-05-19T23:01:42.940065",
     "status": "completed"
    },
    "tags": []
   },
   "source": [
    "This looks like what we want for the training features. The 'label' column is gone, and we have all the pixel columns from 1 to 784. Let's check the labels."
   ]
  },
  {
   "cell_type": "code",
   "execution_count": 8,
   "id": "c8ea5a02",
   "metadata": {
    "execution": {
     "iopub.execute_input": "2023-05-19T23:01:42.982098Z",
     "iopub.status.busy": "2023-05-19T23:01:42.981695Z",
     "iopub.status.idle": "2023-05-19T23:01:42.989708Z",
     "shell.execute_reply": "2023-05-19T23:01:42.988433Z"
    },
    "papermill": {
     "duration": 0.02569,
     "end_time": "2023-05-19T23:01:42.992344",
     "exception": false,
     "start_time": "2023-05-19T23:01:42.966654",
     "status": "completed"
    },
    "tags": []
   },
   "outputs": [
    {
     "data": {
      "text/plain": [
       "0    2\n",
       "1    9\n",
       "2    6\n",
       "3    0\n",
       "4    3\n",
       "Name: label, dtype: int64"
      ]
     },
     "execution_count": 8,
     "metadata": {},
     "output_type": "execute_result"
    }
   ],
   "source": [
    "Y.head()"
   ]
  },
  {
   "cell_type": "markdown",
   "id": "9e78db84",
   "metadata": {
    "papermill": {
     "duration": 0.013395,
     "end_time": "2023-05-19T23:01:43.020157",
     "exception": false,
     "start_time": "2023-05-19T23:01:43.006762",
     "status": "completed"
    },
    "tags": []
   },
   "source": [
    "Although it's not formatted as a table, we see the first 5 values of the labels. They range from 0 to 9, which is what we expect. \n",
    "\n",
    "Now that we have the labels split from the features, let's visualize the image and the label for a few random data objects. To do this, let's define a function that prints the label for a data object then plots the image stored in the pixel values. Our dictionary comes in handy here. We need to import the matplotlib package to help with plotting."
   ]
  },
  {
   "cell_type": "code",
   "execution_count": 9,
   "id": "fcbe9940",
   "metadata": {
    "execution": {
     "iopub.execute_input": "2023-05-19T23:01:43.049466Z",
     "iopub.status.busy": "2023-05-19T23:01:43.049080Z",
     "iopub.status.idle": "2023-05-19T23:01:43.054704Z",
     "shell.execute_reply": "2023-05-19T23:01:43.053585Z"
    },
    "papermill": {
     "duration": 0.02333,
     "end_time": "2023-05-19T23:01:43.057242",
     "exception": false,
     "start_time": "2023-05-19T23:01:43.033912",
     "status": "completed"
    },
    "tags": []
   },
   "outputs": [],
   "source": [
    "import matplotlib.pyplot as plt\n",
    "\n",
    "def display_image(features, numeric_label):\n",
    "    print(f\"Class: {labels[numeric_label]}\")\n",
    "    plt.imshow(features.reshape(28, 28))"
   ]
  },
  {
   "cell_type": "markdown",
   "id": "fd9d688a",
   "metadata": {
    "papermill": {
     "duration": 0.0133,
     "end_time": "2023-05-19T23:01:43.084463",
     "exception": false,
     "start_time": "2023-05-19T23:01:43.071163",
     "status": "completed"
    },
    "tags": []
   },
   "source": [
    "Now with the function set up, let's use it to visualize some images. The next 3 code blocks will print the label and then plot the image below it for data objects with index 0, 10, and 59999."
   ]
  },
  {
   "cell_type": "code",
   "execution_count": 10,
   "id": "1a2f62e8",
   "metadata": {
    "execution": {
     "iopub.execute_input": "2023-05-19T23:01:43.113982Z",
     "iopub.status.busy": "2023-05-19T23:01:43.113579Z",
     "iopub.status.idle": "2023-05-19T23:01:43.388658Z",
     "shell.execute_reply": "2023-05-19T23:01:43.387494Z"
    },
    "papermill": {
     "duration": 0.292887,
     "end_time": "2023-05-19T23:01:43.391054",
     "exception": false,
     "start_time": "2023-05-19T23:01:43.098167",
     "status": "completed"
    },
    "tags": []
   },
   "outputs": [
    {
     "name": "stdout",
     "output_type": "stream",
     "text": [
      "Class: Pullover\n"
     ]
    },
    {
     "data": {
      "image/png": "[encoded data removed]",
      "text/plain": [
       "<Figure size 640x480 with 1 Axes>"
      ]
     },
     "metadata": {},
     "output_type": "display_data"
    }
   ],
   "source": [
    "display_image(X.loc[0].values, Y.loc[0])"
   ]
  },
  {
   "cell_type": "code",
   "execution_count": 11,
   "id": "994aeab4",
   "metadata": {
    "execution": {
     "iopub.execute_input": "2023-05-19T23:01:43.421613Z",
     "iopub.status.busy": "2023-05-19T23:01:43.420443Z",
     "iopub.status.idle": "2023-05-19T23:01:43.673885Z",
     "shell.execute_reply": "2023-05-19T23:01:43.672619Z"
    },
    "papermill": {
     "duration": 0.271531,
     "end_time": "2023-05-19T23:01:43.676694",
     "exception": false,
     "start_time": "2023-05-19T23:01:43.405163",
     "status": "completed"
    },
    "tags": []
   },
   "outputs": [
    {
     "name": "stdout",
     "output_type": "stream",
     "text": [
      "Class: T-shirt / Top\n"
     ]
    },
    {
     "data": {
      "image/png": "[encoded data removed]",
      "text/plain": [
       "<Figure size 640x480 with 1 Axes>"
      ]
     },
     "metadata": {},
     "output_type": "display_data"
    }
   ],
   "source": [
    "display_image(X.loc[10].values, Y.loc[10])"
   ]
  },
  {
   "cell_type": "code",
   "execution_count": 12,
   "id": "49555005",
   "metadata": {
    "execution": {
     "iopub.execute_input": "2023-05-19T23:01:43.708147Z",
     "iopub.status.busy": "2023-05-19T23:01:43.707732Z",
     "iopub.status.idle": "2023-05-19T23:01:43.957146Z",
     "shell.execute_reply": "2023-05-19T23:01:43.956111Z"
    },
    "papermill": {
     "duration": 0.268533,
     "end_time": "2023-05-19T23:01:43.959845",
     "exception": false,
     "start_time": "2023-05-19T23:01:43.691312",
     "status": "completed"
    },
    "tags": []
   },
   "outputs": [
    {
     "name": "stdout",
     "output_type": "stream",
     "text": [
      "Class: Sneaker\n"
     ]
    },
    {
     "data": {
      "image/png": "[encoded data removed]",
      "text/plain": [
       "<Figure size 640x480 with 1 Axes>"
      ]
     },
     "metadata": {},
     "output_type": "display_data"
    }
   ],
   "source": [
    "display_image(X.loc[59999].values, Y.loc[59999])"
   ]
  },
  {
   "cell_type": "markdown",
   "id": "e700e8ed",
   "metadata": {
    "papermill": {
     "duration": 0.014284,
     "end_time": "2023-05-19T23:01:43.989012",
     "exception": false,
     "start_time": "2023-05-19T23:01:43.974728",
     "status": "completed"
    },
    "tags": []
   },
   "source": [
    "Each label matches the picture shown. This is great! \n",
    "\n",
    "Before we train the model, we need to normalize our features. This helps prevent bias in the model, because higher values are seen as more important in machine learning. Normalizing is easy here because all our features range from 0 to 255. To scale everything between 0 and 1, all we need to do is divide by 255. After that, we will use the `.head` method to make sure the values are what we would expect."
   ]
  },
  {
   "cell_type": "code",
   "execution_count": 13,
   "id": "ebbd8d49",
   "metadata": {
    "execution": {
     "iopub.execute_input": "2023-05-19T23:01:44.021616Z",
     "iopub.status.busy": "2023-05-19T23:01:44.020634Z",
     "iopub.status.idle": "2023-05-19T23:01:44.140405Z",
     "shell.execute_reply": "2023-05-19T23:01:44.139515Z"
    },
    "papermill": {
     "duration": 0.13882,
     "end_time": "2023-05-19T23:01:44.142681",
     "exception": false,
     "start_time": "2023-05-19T23:01:44.003861",
     "status": "completed"
    },
    "tags": []
   },
   "outputs": [
    {
     "data": {
      "text/html": [
       "<div>\n",
       "<style scoped>\n",
       "    .dataframe tbody tr th:only-of-type {\n",
       "        vertical-align: middle;\n",
       "    }\n",
       "\n",
       "    .dataframe tbody tr th {\n",
       "        vertical-align: top;\n",
       "    }\n",
       "\n",
       "    .dataframe thead th {\n",
       "        text-align: right;\n",
       "    }\n",
       "</style>\n",
       "<table border=\"1\" class=\"dataframe\">\n",
       "  <thead>\n",
       "    <tr style=\"text-align: right;\">\n",
       "      <th></th>\n",
       "      <th>pixel1</th>\n",
       "      <th>pixel2</th>\n",
       "      <th>pixel3</th>\n",
       "      <th>pixel4</th>\n",
       "      <th>pixel5</th>\n",
       "      <th>pixel6</th>\n",
       "      <th>pixel7</th>\n",
       "      <th>pixel8</th>\n",
       "      <th>pixel9</th>\n",
       "      <th>pixel10</th>\n",
       "      <th>...</th>\n",
       "      <th>pixel775</th>\n",
       "      <th>pixel776</th>\n",
       "      <th>pixel777</th>\n",
       "      <th>pixel778</th>\n",
       "      <th>pixel779</th>\n",
       "      <th>pixel780</th>\n",
       "      <th>pixel781</th>\n",
       "      <th>pixel782</th>\n",
       "      <th>pixel783</th>\n",
       "      <th>pixel784</th>\n",
       "    </tr>\n",
       "  </thead>\n",
       "  <tbody>\n",
       "    <tr>\n",
       "      <th>0</th>\n",
       "      <td>0.0</td>\n",
       "      <td>0.0</td>\n",
       "      <td>0.0</td>\n",
       "      <td>0.000000</td>\n",
       "      <td>0.000000</td>\n",
       "      <td>0.0</td>\n",
       "      <td>0.0</td>\n",
       "      <td>0.000000</td>\n",
       "      <td>0.0</td>\n",
       "      <td>0.0</td>\n",
       "      <td>...</td>\n",
       "      <td>0.000000</td>\n",
       "      <td>0.0</td>\n",
       "      <td>0.0</td>\n",
       "      <td>0.000000</td>\n",
       "      <td>0.000000</td>\n",
       "      <td>0.000000</td>\n",
       "      <td>0.0</td>\n",
       "      <td>0.0</td>\n",
       "      <td>0.0</td>\n",
       "      <td>0.0</td>\n",
       "    </tr>\n",
       "    <tr>\n",
       "      <th>1</th>\n",
       "      <td>0.0</td>\n",
       "      <td>0.0</td>\n",
       "      <td>0.0</td>\n",
       "      <td>0.000000</td>\n",
       "      <td>0.000000</td>\n",
       "      <td>0.0</td>\n",
       "      <td>0.0</td>\n",
       "      <td>0.000000</td>\n",
       "      <td>0.0</td>\n",
       "      <td>0.0</td>\n",
       "      <td>...</td>\n",
       "      <td>0.000000</td>\n",
       "      <td>0.0</td>\n",
       "      <td>0.0</td>\n",
       "      <td>0.000000</td>\n",
       "      <td>0.000000</td>\n",
       "      <td>0.000000</td>\n",
       "      <td>0.0</td>\n",
       "      <td>0.0</td>\n",
       "      <td>0.0</td>\n",
       "      <td>0.0</td>\n",
       "    </tr>\n",
       "    <tr>\n",
       "      <th>2</th>\n",
       "      <td>0.0</td>\n",
       "      <td>0.0</td>\n",
       "      <td>0.0</td>\n",
       "      <td>0.000000</td>\n",
       "      <td>0.000000</td>\n",
       "      <td>0.0</td>\n",
       "      <td>0.0</td>\n",
       "      <td>0.019608</td>\n",
       "      <td>0.0</td>\n",
       "      <td>0.0</td>\n",
       "      <td>...</td>\n",
       "      <td>0.000000</td>\n",
       "      <td>0.0</td>\n",
       "      <td>0.0</td>\n",
       "      <td>0.117647</td>\n",
       "      <td>0.168627</td>\n",
       "      <td>0.000000</td>\n",
       "      <td>0.0</td>\n",
       "      <td>0.0</td>\n",
       "      <td>0.0</td>\n",
       "      <td>0.0</td>\n",
       "    </tr>\n",
       "    <tr>\n",
       "      <th>3</th>\n",
       "      <td>0.0</td>\n",
       "      <td>0.0</td>\n",
       "      <td>0.0</td>\n",
       "      <td>0.003922</td>\n",
       "      <td>0.007843</td>\n",
       "      <td>0.0</td>\n",
       "      <td>0.0</td>\n",
       "      <td>0.000000</td>\n",
       "      <td>0.0</td>\n",
       "      <td>0.0</td>\n",
       "      <td>...</td>\n",
       "      <td>0.011765</td>\n",
       "      <td>0.0</td>\n",
       "      <td>0.0</td>\n",
       "      <td>0.000000</td>\n",
       "      <td>0.000000</td>\n",
       "      <td>0.003922</td>\n",
       "      <td>0.0</td>\n",
       "      <td>0.0</td>\n",
       "      <td>0.0</td>\n",
       "      <td>0.0</td>\n",
       "    </tr>\n",
       "    <tr>\n",
       "      <th>4</th>\n",
       "      <td>0.0</td>\n",
       "      <td>0.0</td>\n",
       "      <td>0.0</td>\n",
       "      <td>0.000000</td>\n",
       "      <td>0.000000</td>\n",
       "      <td>0.0</td>\n",
       "      <td>0.0</td>\n",
       "      <td>0.000000</td>\n",
       "      <td>0.0</td>\n",
       "      <td>0.0</td>\n",
       "      <td>...</td>\n",
       "      <td>0.000000</td>\n",
       "      <td>0.0</td>\n",
       "      <td>0.0</td>\n",
       "      <td>0.000000</td>\n",
       "      <td>0.000000</td>\n",
       "      <td>0.000000</td>\n",
       "      <td>0.0</td>\n",
       "      <td>0.0</td>\n",
       "      <td>0.0</td>\n",
       "      <td>0.0</td>\n",
       "    </tr>\n",
       "  </tbody>\n",
       "</table>\n",
       "<p>5 rows × 784 columns</p>\n",
       "</div>"
      ],
      "text/plain": [
       "   pixel1  pixel2  pixel3    pixel4    pixel5  pixel6  pixel7    pixel8  \\\n",
       "0     0.0     0.0     0.0  0.000000  0.000000     0.0     0.0  0.000000   \n",
       "1     0.0     0.0     0.0  0.000000  0.000000     0.0     0.0  0.000000   \n",
       "2     0.0     0.0     0.0  0.000000  0.000000     0.0     0.0  0.019608   \n",
       "3     0.0     0.0     0.0  0.003922  0.007843     0.0     0.0  0.000000   \n",
       "4     0.0     0.0     0.0  0.000000  0.000000     0.0     0.0  0.000000   \n",
       "\n",
       "   pixel9  pixel10  ...  pixel775  pixel776  pixel777  pixel778  pixel779  \\\n",
       "0     0.0      0.0  ...  0.000000       0.0       0.0  0.000000  0.000000   \n",
       "1     0.0      0.0  ...  0.000000       0.0       0.0  0.000000  0.000000   \n",
       "2     0.0      0.0  ...  0.000000       0.0       0.0  0.117647  0.168627   \n",
       "3     0.0      0.0  ...  0.011765       0.0       0.0  0.000000  0.000000   \n",
       "4     0.0      0.0  ...  0.000000       0.0       0.0  0.000000  0.000000   \n",
       "\n",
       "   pixel780  pixel781  pixel782  pixel783  pixel784  \n",
       "0  0.000000       0.0       0.0       0.0       0.0  \n",
       "1  0.000000       0.0       0.0       0.0       0.0  \n",
       "2  0.000000       0.0       0.0       0.0       0.0  \n",
       "3  0.003922       0.0       0.0       0.0       0.0  \n",
       "4  0.000000       0.0       0.0       0.0       0.0  \n",
       "\n",
       "[5 rows x 784 columns]"
      ]
     },
     "execution_count": 13,
     "metadata": {},
     "output_type": "execute_result"
    }
   ],
   "source": [
    "X = X / 255\n",
    "X.head()"
   ]
  },
  {
   "cell_type": "markdown",
   "id": "a22afac8",
   "metadata": {
    "papermill": {
     "duration": 0.014887,
     "end_time": "2023-05-19T23:01:44.172891",
     "exception": false,
     "start_time": "2023-05-19T23:01:44.158004",
     "status": "completed"
    },
    "tags": []
   },
   "source": [
    "Everything looks great! \n",
    "\n",
    "As you saw while we were exploring our data, we have two sets of data. The training set with 60,000 objects, and the testing set with 10,000 objects. We are going to split the training set itself into training and testing data. Then, after we train, test, and adjust the model hyperparameters iteratively until we are satisfied with our result, we will use the untouched testing set for validation. This will give us additional insight into how our model will perform on unseen data. If the accuracy results for the testing and validation sets are similar, this gives us confidence that the model will generalize well. Reducing our training set will also help the model run faster, which is useful for this learning exercise. \n",
    "\n",
    "Let's split the training set into training and testing sets with `train_test_split` from the sklearn package. We provide the features, labels, and how much of the data we want to save for testing (0.2 is 20% of the data). Let's look at the shape to confirm."
   ]
  },
  {
   "cell_type": "code",
   "execution_count": 14,
   "id": "cf99e195",
   "metadata": {
    "execution": {
     "iopub.execute_input": "2023-05-19T23:01:44.206944Z",
     "iopub.status.busy": "2023-05-19T23:01:44.205888Z",
     "iopub.status.idle": "2023-05-19T23:01:45.890777Z",
     "shell.execute_reply": "2023-05-19T23:01:45.889356Z"
    },
    "papermill": {
     "duration": 1.704749,
     "end_time": "2023-05-19T23:01:45.893556",
     "exception": false,
     "start_time": "2023-05-19T23:01:44.188807",
     "status": "completed"
    },
    "tags": []
   },
   "outputs": [
    {
     "name": "stderr",
     "output_type": "stream",
     "text": [
      "/opt/conda/lib/python3.10/site-packages/scipy/__init__.py:146: UserWarning: A NumPy version >=1.16.5 and <1.23.0 is required for this version of SciPy (detected version 1.23.5\n",
      "  warnings.warn(f\"A NumPy version >={np_minversion} and <{np_maxversion}\"\n"
     ]
    },
    {
     "name": "stdout",
     "output_type": "stream",
     "text": [
      "Training features: (48000, 784)\n",
      "Training labels: (48000,)\n",
      "Testing features: (12000, 784)\n",
      "Testing labels: (12000,)\n"
     ]
    }
   ],
   "source": [
    "from sklearn.model_selection import train_test_split\n",
    "\n",
    "x_train, x_test, y_train, y_test = train_test_split(X, Y, test_size=0.2)\n",
    "print(\"Training features: \" + str(x_train.shape))\n",
    "print(\"Training labels: \" + str(y_train.shape))\n",
    "print(\"Testing features: \" + str(x_test.shape))\n",
    "print(\"Testing labels: \" + str(y_test.shape))"
   ]
  },
  {
   "cell_type": "markdown",
   "id": "f23b03f7",
   "metadata": {
    "papermill": {
     "duration": 0.015338,
     "end_time": "2023-05-19T23:01:45.925177",
     "exception": false,
     "start_time": "2023-05-19T23:01:45.909839",
     "status": "completed"
    },
    "tags": []
   },
   "source": [
    "We see we have 48,000 objects for training, and 12,000 objects for testing. 12,000 is 20% of 60,000, so this is exactly what we asked for. Everything looks ready for training.\n",
    "\n",
    "## Training the model\n",
    "\n",
    "We are finally ready to train the model. We will use the `LogisitcRegression` model from sklearn. We import it, initialize the model, and set the max iterations to 10. This is very low, but we will start with it to give us an idea of how our model will improve as we increase this.\n",
    "\n",
    "We use the `.fit` method to train the model on our training data, and finally use the `.predict` method to make predictions on our testing data. We will compare the predictions with the true labels in the next step to see how our model performed."
   ]
  },
  {
   "cell_type": "code",
   "execution_count": 15,
   "id": "90ac979f",
   "metadata": {
    "execution": {
     "iopub.execute_input": "2023-05-19T23:01:45.959777Z",
     "iopub.status.busy": "2023-05-19T23:01:45.958462Z",
     "iopub.status.idle": "2023-05-19T23:01:48.843408Z",
     "shell.execute_reply": "2023-05-19T23:01:48.842204Z"
    },
    "papermill": {
     "duration": 2.906299,
     "end_time": "2023-05-19T23:01:48.847682",
     "exception": false,
     "start_time": "2023-05-19T23:01:45.941383",
     "status": "completed"
    },
    "tags": []
   },
   "outputs": [
    {
     "name": "stderr",
     "output_type": "stream",
     "text": [
      "/opt/conda/lib/python3.10/site-packages/sklearn/linear_model/_logistic.py:458: ConvergenceWarning: lbfgs failed to converge (status=1):\n",
      "STOP: TOTAL NO. of ITERATIONS REACHED LIMIT.\n",
      "\n",
      "Increase the number of iterations (max_iter) or scale the data as shown in:\n",
      "    https://scikit-learn.org/stable/modules/preprocessing.html\n",
      "Please also refer to the documentation for alternative solver options:\n",
      "    https://scikit-learn.org/stable/modules/linear_model.html#logistic-regression\n",
      "  n_iter_i = _check_optimize_result(\n"
     ]
    }
   ],
   "source": [
    "from sklearn.linear_model import LogisticRegression\n",
    "\n",
    "logistic_model = LogisticRegression(max_iter = 10)\n",
    "logistic_model.fit(x_train, y_train)\n",
    "y_pred = logistic_model.predict(x_test)"
   ]
  },
  {
   "cell_type": "markdown",
   "id": "1578d4b5",
   "metadata": {
    "papermill": {
     "duration": 0.032634,
     "end_time": "2023-05-19T23:01:48.913721",
     "exception": false,
     "start_time": "2023-05-19T23:01:48.881087",
     "status": "completed"
    },
    "tags": []
   },
   "source": [
    "There are many ways to evaluate how well a model performs. The simplest one is accuracy, which simply counts how many predictions matched the true label divided by the total number of objects being tested. So, if you got 10 correct out of 20, the accuracy would be 0.5. \n",
    "\n",
    "Precision calculates how well a model can correctly label positive samples from all the samples predicted as positive. This is measured for each class. For example, out of all the data objects that were labeled as a shirt, how many actually were a shirt? Maximizing precision is especially important when the cost of a false positive is high.\n",
    "\n",
    "Recall calculates how well a model can find all of the positive samples in the dataset. This is again measured for each class, so a good example is out of all the objects that were actually a shirt, how many were predicted as a shirt? Maximizing recall when the cost of a false negative is high is very important.\n",
    "\n",
    "We will look at all these metrics. We import them from sklearn, and we make sure that when calculating precision and recall each class is weighted with the number of its occurrences."
   ]
  },
  {
   "cell_type": "code",
   "execution_count": 16,
   "id": "f1dbc376",
   "metadata": {
    "execution": {
     "iopub.execute_input": "2023-05-19T23:01:48.970655Z",
     "iopub.status.busy": "2023-05-19T23:01:48.970228Z",
     "iopub.status.idle": "2023-05-19T23:01:49.000804Z",
     "shell.execute_reply": "2023-05-19T23:01:48.999643Z"
    },
    "papermill": {
     "duration": 0.055817,
     "end_time": "2023-05-19T23:01:49.003882",
     "exception": false,
     "start_time": "2023-05-19T23:01:48.948065",
     "status": "completed"
    },
    "tags": []
   },
   "outputs": [
    {
     "name": "stdout",
     "output_type": "stream",
     "text": [
      "Number of test records:\t 12000\n",
      "Accuracy count:\t\t 8797\n",
      "Acccuracy:\t\t 0.7330833333333333\n",
      "Precision:\t\t 0.7266990425245788\n",
      "Recall:\t\t\t 0.7330833333333333\n"
     ]
    }
   ],
   "source": [
    "from sklearn.metrics import accuracy_score\n",
    "from sklearn.metrics import precision_score\n",
    "from sklearn.metrics import recall_score\n",
    "\n",
    "accuracy = accuracy_score(y_test, y_pred, normalize = True)\n",
    "accuracy_count = accuracy_score(y_test, y_pred, normalize = False)\n",
    "precision = precision_score(y_test, y_pred, average = 'weighted')\n",
    "recall = recall_score(y_test, y_pred, average = 'weighted')\n",
    "\n",
    "print(\"Number of test records:\\t\", len(y_test))\n",
    "print(\"Accuracy count:\\t\\t\", accuracy_count)\n",
    "print(\"Acccuracy:\\t\\t\", accuracy)\n",
    "print(\"Precision:\\t\\t\", precision)\n",
    "print(\"Recall:\\t\\t\\t\", recall)"
   ]
  },
  {
   "cell_type": "markdown",
   "id": "989149b7",
   "metadata": {
    "papermill": {
     "duration": 0.015416,
     "end_time": "2023-05-19T23:01:49.035705",
     "exception": false,
     "start_time": "2023-05-19T23:01:49.020289",
     "status": "completed"
    },
    "tags": []
   },
   "source": [
    "We achieved an accuracy of about 73.5%. Not too bad considering we only gave it 10 iterations! Let's try increasing the iterations to 10000. We will use the same code, but will just change the iteration count. This will take much more time to run, so be patient."
   ]
  },
  {
   "cell_type": "code",
   "execution_count": 17,
   "id": "19e17838",
   "metadata": {
    "execution": {
     "iopub.execute_input": "2023-05-19T23:01:49.069039Z",
     "iopub.status.busy": "2023-05-19T23:01:49.068641Z",
     "iopub.status.idle": "2023-05-19T23:08:07.419476Z",
     "shell.execute_reply": "2023-05-19T23:08:07.417806Z"
    },
    "papermill": {
     "duration": 378.405487,
     "end_time": "2023-05-19T23:08:07.456846",
     "exception": false,
     "start_time": "2023-05-19T23:01:49.051359",
     "status": "completed"
    },
    "tags": []
   },
   "outputs": [
    {
     "name": "stdout",
     "output_type": "stream",
     "text": [
      "Number of test records:\t 12000\n",
      "Accuracy count:\t\t 10196\n",
      "Acccuracy:\t\t 0.8496666666666667\n",
      "Precision:\t\t 0.8483412329299972\n",
      "Recall:\t\t\t 0.8496666666666667\n"
     ]
    }
   ],
   "source": [
    "logistic_model = LogisticRegression(max_iter = 10000)\n",
    "logistic_model.fit(x_train, y_train)\n",
    "y_pred = logistic_model.predict(x_test)\n",
    "\n",
    "accuracy = accuracy_score(y_test, y_pred, normalize = True)\n",
    "accuracy_count = accuracy_score(y_test, y_pred, normalize = False)\n",
    "precision = precision_score(y_test, y_pred, average = 'weighted')\n",
    "recall = recall_score(y_test, y_pred, average = 'weighted')\n",
    "\n",
    "print(\"Number of test records:\\t\", len(y_test))\n",
    "print(\"Accuracy count:\\t\\t\", accuracy_count)\n",
    "print(\"Acccuracy:\\t\\t\", accuracy)\n",
    "print(\"Precision:\\t\\t\", precision)\n",
    "print(\"Recall:\\t\\t\\t\", recall)"
   ]
  },
  {
   "cell_type": "markdown",
   "id": "760edada",
   "metadata": {
    "papermill": {
     "duration": 0.020302,
     "end_time": "2023-05-19T23:08:07.510184",
     "exception": false,
     "start_time": "2023-05-19T23:08:07.489882",
     "status": "completed"
    },
    "tags": []
   },
   "source": [
    "Our results improved by about 10%! Now, let's use this existing model on our validation set that we have not used yet. We need to split that data into labels and features before we use it, and normalize the features."
   ]
  },
  {
   "cell_type": "code",
   "execution_count": 18,
   "id": "38f98589",
   "metadata": {
    "execution": {
     "iopub.execute_input": "2023-05-19T23:08:07.546598Z",
     "iopub.status.busy": "2023-05-19T23:08:07.546157Z",
     "iopub.status.idle": "2023-05-19T23:08:07.592837Z",
     "shell.execute_reply": "2023-05-19T23:08:07.591447Z"
    },
    "papermill": {
     "duration": 0.067309,
     "end_time": "2023-05-19T23:08:07.595736",
     "exception": false,
     "start_time": "2023-05-19T23:08:07.528427",
     "status": "completed"
    },
    "tags": []
   },
   "outputs": [],
   "source": [
    "X_val = fashion_test_set[fashion_test_set.columns[1:]]\n",
    "X_val = X_val/255\n",
    "Y_val = fashion_test_set['label']"
   ]
  },
  {
   "cell_type": "markdown",
   "id": "8ccad1a8",
   "metadata": {
    "papermill": {
     "duration": 0.015742,
     "end_time": "2023-05-19T23:08:07.627346",
     "exception": false,
     "start_time": "2023-05-19T23:08:07.611604",
     "status": "completed"
    },
    "tags": []
   },
   "source": [
    "Now that our data is split, let's use the model to make predictions! "
   ]
  },
  {
   "cell_type": "code",
   "execution_count": 19,
   "id": "ba0f1427",
   "metadata": {
    "execution": {
     "iopub.execute_input": "2023-05-19T23:08:07.660910Z",
     "iopub.status.busy": "2023-05-19T23:08:07.660469Z",
     "iopub.status.idle": "2023-05-19T23:08:07.750515Z",
     "shell.execute_reply": "2023-05-19T23:08:07.748955Z"
    },
    "papermill": {
     "duration": 0.112279,
     "end_time": "2023-05-19T23:08:07.755385",
     "exception": false,
     "start_time": "2023-05-19T23:08:07.643106",
     "status": "completed"
    },
    "tags": []
   },
   "outputs": [
    {
     "name": "stdout",
     "output_type": "stream",
     "text": [
      "Number of test records:\t 10000\n",
      "Accuracy count:\t\t 8500\n",
      "Acccuracy:\t\t 0.85\n",
      "Precision:\t\t 0.8484116705434779\n",
      "Recall:\t\t\t 0.85\n"
     ]
    }
   ],
   "source": [
    "y_pred_val = logistic_model.predict(X_val)\n",
    "\n",
    "accuracy = accuracy_score(Y_val, y_pred_val, normalize = True)\n",
    "accuracy_count = accuracy_score(Y_val, y_pred_val, normalize = False)\n",
    "precision = precision_score(Y_val, y_pred_val, average = 'weighted')\n",
    "recall = recall_score(Y_val, y_pred_val, average = 'weighted')\n",
    "\n",
    "print(\"Number of test records:\\t\", len(y_pred_val))\n",
    "print(\"Accuracy count:\\t\\t\", accuracy_count)\n",
    "print(\"Acccuracy:\\t\\t\", accuracy)\n",
    "print(\"Precision:\\t\\t\", precision)\n",
    "print(\"Recall:\\t\\t\\t\", recall)"
   ]
  },
  {
   "cell_type": "markdown",
   "id": "7136e47f",
   "metadata": {
    "papermill": {
     "duration": 0.032785,
     "end_time": "2023-05-19T23:08:07.822474",
     "exception": false,
     "start_time": "2023-05-19T23:08:07.789689",
     "status": "completed"
    },
    "tags": []
   },
   "source": [
    "Our results are remarkably similar to the testing data we used before. This is good news! We can be confident that our model will achieve about 85% accuracy on unseen data."
   ]
  },
  {
   "cell_type": "markdown",
   "id": "5a6868ff",
   "metadata": {
    "papermill": {
     "duration": 0.015857,
     "end_time": "2023-05-19T23:08:07.860260",
     "exception": false,
     "start_time": "2023-05-19T23:08:07.844403",
     "status": "completed"
    },
    "tags": []
   },
   "source": [
    "## Conclusion\n",
    "\n",
    "In this exercise, we explored the fashion MNIST dataset, and used it to create a logistic regression model that predicts clothing type based on a 28x28 pixel gray image. We achieved an accuracy of about 85% with both our testing and validation data set. \n",
    "\n",
    "This exercise helped us understand how to use the logistic regression model from sklearn and the essential steps in every machine learning process. We also saw the importance of setting appropriate hyperparameters, which in this case was the max iterations allowed. This is just a starting point in learning how to improve this model."
   ]
  }
 ],
 "metadata": {
  "kernelspec": {
   "display_name": "Python 3",
   "language": "python",
   "name": "python3"
  },
  "language_info": {
   "codemirror_mode": {
    "name": "ipython",
    "version": 3
   },
   "file_extension": ".py",
   "mimetype": "text/x-python",
   "name": "python",
   "nbconvert_exporter": "python",
   "pygments_lexer": "ipython3",
   "version": "3.10.10"
  },
  "papermill": {
   "default_parameters": {},
   "duration": 419.173721,
   "end_time": "2023-05-19T23:08:09.001659",
   "environment_variables": {},
   "exception": null,
   "input_path": "__notebook__.ipynb",
   "output_path": "__notebook__.ipynb",
   "parameters": {},
   "start_time": "2023-05-19T23:01:09.827938",
   "version": "2.4.0"
  }
 },
 "nbformat": 4,
 "nbformat_minor": 5
}
