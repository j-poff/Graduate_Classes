{
 "cells": [
  {
   "cell_type": "markdown",
   "id": "d5c4b90b",
   "metadata": {
    "papermill": {
     "duration": 0.012394,
     "end_time": "2023-04-21T05:52:20.778418",
     "exception": false,
     "start_time": "2023-04-21T05:52:20.766024",
     "status": "completed"
    },
    "tags": []
   },
   "source": [
    "# Introduction\n",
    "\n",
    "This notebook contains two parts. **Part 1, Evaluating k-NN Classifiers**, provides you an opportunity to demonstrate your ability to apply course concepts to determine the ideal **_k_** for a k-NN Classifier on a contrived Iris data set. **Part 2, Classifying Handwritten Digits**, provides you an opportunity to practice using widely-used ML libraries and an ML workflow to solve a classification problem.\n",
    "\n",
    "You do not need to complete Part 1 in order to complete Part 2. If you get stuck on Part 1, and choose to work on Part 2, be sure that all of your code for Part 1 runs without error. You can comment out your code in Part 1 if necessary."
   ]
  },
  {
   "cell_type": "markdown",
   "id": "c7ece792",
   "metadata": {
    "papermill": {
     "duration": 0.010659,
     "end_time": "2023-04-21T05:52:20.800334",
     "exception": false,
     "start_time": "2023-04-21T05:52:20.789675",
     "status": "completed"
    },
    "tags": []
   },
   "source": [
    "# Part 1: Evaluating k-NN Classifiers\n",
    "\n",
    "Given a simple KnnClassifier, and a complete data set of [Iris attributes](https://www.kaggle.com/datasets/uciml/iris), demonstrate your ability to:\n",
    "\n",
    "1. Split a data set into appropriate training and test sets\n",
    "2. \"Train\" a k-NN classifier\n",
    "3. Repeatedly test a k-NN classifier, and collect generalization errors\n",
    "4. Analyze the generalization error for different values of `k`\n",
    "5. Identify the ideal `k` value for this classifier\n",
    "\n",
    "## The Classifier Implementation\n",
    "\n",
    "Let's first introduce the classifier, which you should find familiar, and you do not need to modify."
   ]
  },
  {
   "cell_type": "code",
   "execution_count": 1,
   "id": "30594aaa",
   "metadata": {
    "_kg_hide-input": true,
    "_kg_hide-output": true,
    "execution": {
     "iopub.execute_input": "2023-04-21T05:52:20.825569Z",
     "iopub.status.busy": "2023-04-21T05:52:20.824359Z",
     "iopub.status.idle": "2023-04-21T05:52:20.841697Z",
     "shell.execute_reply": "2023-04-21T05:52:20.840760Z"
    },
    "papermill": {
     "duration": 0.033036,
     "end_time": "2023-04-21T05:52:20.844396",
     "exception": false,
     "start_time": "2023-04-21T05:52:20.811360",
     "status": "completed"
    },
    "tags": []
   },
   "outputs": [],
   "source": [
    "# A simple KnnClassifier. Uses Euclidean distance.\n",
    "\n",
    "from math import sqrt\n",
    "\n",
    "class KnnClassifier:\n",
    "\n",
    "    def __init__(self, k = 1):\n",
    "        self.k = k\n",
    "\n",
    "    def train(self, training_set):\n",
    "        self.training_set = training_set\n",
    "\n",
    "    def test(self, test_set):\n",
    "        number_of_correct_predictions = 0\n",
    "        for example in test_set:\n",
    "            prediction = self.predict(example[:-1])\n",
    "            if prediction == example[-1]:\n",
    "                number_of_correct_predictions += 1\n",
    "        return number_of_correct_predictions / len(test_set)\n",
    "\n",
    "    def predict(self, x):\n",
    "        distances = {}\n",
    "        for training_instance in self.training_set:\n",
    "            distance = self._distance(training_instance[:-1], x)\n",
    "            distances[distance] = training_instance[-1]\n",
    "        k_nearest_keys = sorted(list(distances.keys()))[:self.k]\n",
    "        k_nearest_labels = [distances[key] for key in k_nearest_keys]\n",
    "        label_frequencies = {label:k_nearest_labels.count(label) for label in k_nearest_labels}\n",
    "        frequencies = list(label_frequencies.values())\n",
    "        labels = list(label_frequencies.keys())\n",
    "        return labels[frequencies.index(max(frequencies))]\n",
    "\n",
    "    def _distance(self, training_instance, x):\n",
    "        sum_of_squares = 0\n",
    "        for i in range(len(x)):\n",
    "            sum_of_squares += (x[i] - training_instance[i])**2\n",
    "        return \"%.5f\" % sqrt(sum_of_squares)"
   ]
  },
  {
   "cell_type": "markdown",
   "id": "2af43684",
   "metadata": {
    "papermill": {
     "duration": 0.012438,
     "end_time": "2023-04-21T05:52:20.868007",
     "exception": false,
     "start_time": "2023-04-21T05:52:20.855569",
     "status": "completed"
    },
    "tags": []
   },
   "source": [
    "## The Data Set\n",
    "\n",
    "There is no need for you to manually load the data set. We have provided the classic Iris data set here as a two-dimensional Python list, where each sub-list represents the attributes for one flower."
   ]
  },
  {
   "cell_type": "code",
   "execution_count": 2,
   "id": "18e44c4e",
   "metadata": {
    "_kg_hide-input": true,
    "execution": {
     "iopub.execute_input": "2023-04-21T05:52:20.893397Z",
     "iopub.status.busy": "2023-04-21T05:52:20.892438Z",
     "iopub.status.idle": "2023-04-21T05:52:20.929030Z",
     "shell.execute_reply": "2023-04-21T05:52:20.927755Z"
    },
    "papermill": {
     "duration": 0.052854,
     "end_time": "2023-04-21T05:52:20.932201",
     "exception": false,
     "start_time": "2023-04-21T05:52:20.879347",
     "status": "completed"
    },
    "tags": []
   },
   "outputs": [],
   "source": [
    "iris_data_set = [\n",
    "    [5.1,3.5,1.4,0.2,'Iris-setosa'],\n",
    "    [4.9,3.0,1.4,0.2,'Iris-setosa'],\n",
    "    [4.7,3.2,1.3,0.2,'Iris-setosa'],\n",
    "    [4.6,3.1,1.5,0.2,'Iris-setosa'],\n",
    "    [5.0,3.6,1.4,0.2,'Iris-setosa'],\n",
    "    [5.4,3.9,1.7,0.4,'Iris-setosa'],\n",
    "    [4.6,3.4,1.4,0.3,'Iris-setosa'],\n",
    "    [5.0,3.4,1.5,0.2,'Iris-setosa'],\n",
    "    [4.4,2.9,1.4,0.2,'Iris-setosa'],\n",
    "    [4.9,3.1,1.5,0.1,'Iris-setosa'],\n",
    "    [5.4,3.7,1.5,0.2,'Iris-setosa'],\n",
    "    [4.8,3.4,1.6,0.2,'Iris-setosa'],\n",
    "    [4.8,3.0,1.4,0.1,'Iris-setosa'],\n",
    "    [4.3,3.0,1.1,0.1,'Iris-setosa'],\n",
    "    [5.8,4.0,1.2,0.2,'Iris-setosa'],\n",
    "    [5.7,4.4,1.5,0.4,'Iris-setosa'],\n",
    "    [5.4,3.9,1.3,0.4,'Iris-setosa'],\n",
    "    [5.1,3.5,1.4,0.3,'Iris-setosa'],\n",
    "    [5.7,3.8,1.7,0.3,'Iris-setosa'],\n",
    "    [5.1,3.8,1.5,0.3,'Iris-setosa'],\n",
    "    [5.4,3.4,1.7,0.2,'Iris-setosa'],\n",
    "    [5.1,3.7,1.5,0.4,'Iris-setosa'],\n",
    "    [4.6,3.6,1.0,0.2,'Iris-setosa'],\n",
    "    [5.1,3.3,1.7,0.5,'Iris-setosa'],\n",
    "    [4.8,3.4,1.9,0.2,'Iris-setosa'],\n",
    "    [5.0,3.0,1.6,0.2,'Iris-setosa'],\n",
    "    [5.0,3.4,1.6,0.4,'Iris-setosa'],\n",
    "    [5.2,3.5,1.5,0.2,'Iris-setosa'],\n",
    "    [5.2,3.4,1.4,0.2,'Iris-setosa'],\n",
    "    [4.7,3.2,1.6,0.2,'Iris-setosa'],\n",
    "    [4.8,3.1,1.6,0.2,'Iris-setosa'],\n",
    "    [5.4,3.4,1.5,0.4,'Iris-setosa'],\n",
    "    [5.2,4.1,1.5,0.1,'Iris-setosa'],\n",
    "    [5.5,4.2,1.4,0.2,'Iris-setosa'],\n",
    "    [4.9,3.1,1.5,0.1,'Iris-setosa'],\n",
    "    [5.0,3.2,1.2,0.2,'Iris-setosa'],\n",
    "    [5.5,3.5,1.3,0.2,'Iris-setosa'],\n",
    "    [4.9,3.1,1.5,0.1,'Iris-setosa'],\n",
    "    [4.4,3.0,1.3,0.2,'Iris-setosa'],\n",
    "    [5.1,3.4,1.5,0.2,'Iris-setosa'],\n",
    "    [5.0,3.5,1.3,0.3,'Iris-setosa'],\n",
    "    [4.5,2.3,1.3,0.3,'Iris-setosa'],\n",
    "    [4.4,3.2,1.3,0.2,'Iris-setosa'],\n",
    "    [5.0,3.5,1.6,0.6,'Iris-setosa'],\n",
    "    [5.1,3.8,1.9,0.4,'Iris-setosa'],\n",
    "    [4.8,3.0,1.4,0.3,'Iris-setosa'],\n",
    "    [5.1,3.8,1.6,0.2,'Iris-setosa'],\n",
    "    [4.6,3.2,1.4,0.2,'Iris-setosa'],\n",
    "    [5.3,3.7,1.5,0.2,'Iris-setosa'],\n",
    "    [5.0,3.3,1.4,0.2,'Iris-setosa'],\n",
    "    [7.0,3.2,4.7,1.4,'Iris-versicolor'],\n",
    "    [6.4,3.2,4.5,1.5,'Iris-versicolor'],\n",
    "    [6.9,3.1,4.9,1.5,'Iris-versicolor'],\n",
    "    [5.5,2.3,4.0,1.3,'Iris-versicolor'],\n",
    "    [6.5,2.8,4.6,1.5,'Iris-versicolor'],\n",
    "    [5.7,2.8,4.5,1.3,'Iris-versicolor'],\n",
    "    [6.3,3.3,4.7,1.6,'Iris-versicolor'],\n",
    "    [4.9,2.4,3.3,1.0,'Iris-versicolor'],\n",
    "    [6.6,2.9,4.6,1.3,'Iris-versicolor'],\n",
    "    [5.2,2.7,3.9,1.4,'Iris-versicolor'],\n",
    "    [5.0,2.0,3.5,1.0,'Iris-versicolor'],\n",
    "    [5.9,3.0,4.2,1.5,'Iris-versicolor'],\n",
    "    [6.0,2.2,4.0,1.0,'Iris-versicolor'],\n",
    "    [6.1,2.9,4.7,1.4,'Iris-versicolor'],\n",
    "    [5.6,2.9,3.6,1.3,'Iris-versicolor'],\n",
    "    [6.7,3.1,4.4,1.4,'Iris-versicolor'],\n",
    "    [5.6,3.0,4.5,1.5,'Iris-versicolor'],\n",
    "    [5.8,2.7,4.1,1.0,'Iris-versicolor'],\n",
    "    [6.2,2.2,4.5,1.5,'Iris-versicolor'],\n",
    "    [5.6,2.5,3.9,1.1,'Iris-versicolor'],\n",
    "    [5.9,3.2,4.8,1.8,'Iris-versicolor'],\n",
    "    [6.1,2.8,4.0,1.3,'Iris-versicolor'],\n",
    "    [6.3,2.5,4.9,1.5,'Iris-versicolor'],\n",
    "    [6.1,2.8,4.7,1.2,'Iris-versicolor'],\n",
    "    [6.4,2.9,4.3,1.3,'Iris-versicolor'],\n",
    "    [6.6,3.0,4.4,1.4,'Iris-versicolor'],\n",
    "    [6.8,2.8,4.8,1.4,'Iris-versicolor'],\n",
    "    [6.7,3.0,5.0,1.7,'Iris-versicolor'],\n",
    "    [6.0,2.9,4.5,1.5,'Iris-versicolor'],\n",
    "    [5.7,2.6,3.5,1.0,'Iris-versicolor'],\n",
    "    [5.5,2.4,3.8,1.1,'Iris-versicolor'],\n",
    "    [5.5,2.4,3.7,1.0,'Iris-versicolor'],\n",
    "    [5.8,2.7,3.9,1.2,'Iris-versicolor'],\n",
    "    [6.0,2.7,5.1,1.6,'Iris-versicolor'],\n",
    "    [5.4,3.0,4.5,1.5,'Iris-versicolor'],\n",
    "    [6.0,3.4,4.5,1.6,'Iris-versicolor'],\n",
    "    [6.7,3.1,4.7,1.5,'Iris-versicolor'],\n",
    "    [6.3,2.3,4.4,1.3,'Iris-versicolor'],\n",
    "    [5.6,3.0,4.1,1.3,'Iris-versicolor'],\n",
    "    [5.5,2.5,4.0,1.3,'Iris-versicolor'],\n",
    "    [5.5,2.6,4.4,1.2,'Iris-versicolor'],\n",
    "    [6.1,3.0,4.6,1.4,'Iris-versicolor'],\n",
    "    [5.8,2.6,4.0,1.2,'Iris-versicolor'],\n",
    "    [5.0,2.3,3.3,1.0,'Iris-versicolor'],\n",
    "    [5.6,2.7,4.2,1.3,'Iris-versicolor'],\n",
    "    [5.7,3.0,4.2,1.2,'Iris-versicolor'],\n",
    "    [5.7,2.9,4.2,1.3,'Iris-versicolor'],\n",
    "    [6.2,2.9,4.3,1.3,'Iris-versicolor'],\n",
    "    [5.1,2.5,3.0,1.1,'Iris-versicolor'],\n",
    "    [5.7,2.8,4.1,1.3,'Iris-versicolor'],\n",
    "    [6.3,3.3,6.0,2.5,'Iris-virginica'],\n",
    "    [5.8,2.7,5.1,1.9,'Iris-virginica'],\n",
    "    [7.1,3.0,5.9,2.1,'Iris-virginica'],\n",
    "    [6.3,2.9,5.6,1.8,'Iris-virginica'],\n",
    "    [6.5,3.0,5.8,2.2,'Iris-virginica'],\n",
    "    [7.6,3.0,6.6,2.1,'Iris-virginica'],\n",
    "    [4.9,2.5,4.5,1.7,'Iris-virginica'],\n",
    "    [7.3,2.9,6.3,1.8,'Iris-virginica'],\n",
    "    [6.7,2.5,5.8,1.8,'Iris-virginica'],\n",
    "    [7.2,3.6,6.1,2.5,'Iris-virginica'],\n",
    "    [6.5,3.2,5.1,2.0,'Iris-virginica'],\n",
    "    [6.4,2.7,5.3,1.9,'Iris-virginica'],\n",
    "    [6.8,3.0,5.5,2.1,'Iris-virginica'],\n",
    "    [5.7,2.5,5.0,2.0,'Iris-virginica'],\n",
    "    [5.8,2.8,5.1,2.4,'Iris-virginica'],\n",
    "    [6.4,3.2,5.3,2.3,'Iris-virginica'],\n",
    "    [6.5,3.0,5.5,1.8,'Iris-virginica'],\n",
    "    [7.7,3.8,6.7,2.2,'Iris-virginica'],\n",
    "    [7.7,2.6,6.9,2.3,'Iris-virginica'],\n",
    "    [6.0,2.2,5.0,1.5,'Iris-virginica'],\n",
    "    [6.9,3.2,5.7,2.3,'Iris-virginica'],\n",
    "    [5.6,2.8,4.9,2.0,'Iris-virginica'],\n",
    "    [7.7,2.8,6.7,2.0,'Iris-virginica'],\n",
    "    [6.3,2.7,4.9,1.8,'Iris-virginica'],\n",
    "    [6.7,3.3,5.7,2.1,'Iris-virginica'],\n",
    "    [7.2,3.2,6.0,1.8,'Iris-virginica'],\n",
    "    [6.2,2.8,4.8,1.8,'Iris-virginica'],\n",
    "    [6.1,3.0,4.9,1.8,'Iris-virginica'],\n",
    "    [6.4,2.8,5.6,2.1,'Iris-virginica'],\n",
    "    [7.2,3.0,5.8,1.6,'Iris-virginica'],\n",
    "    [7.4,2.8,6.1,1.9,'Iris-virginica'],\n",
    "    [7.9,3.8,6.4,2.0,'Iris-virginica'],\n",
    "    [6.4,2.8,5.6,2.2,'Iris-virginica'],\n",
    "    [6.3,2.8,5.1,1.5,'Iris-virginica'],\n",
    "    [6.1,2.6,5.6,1.4,'Iris-virginica'],\n",
    "    [7.7,3.0,6.1,2.3,'Iris-virginica'],\n",
    "    [6.3,3.4,5.6,2.4,'Iris-virginica'],\n",
    "    [6.4,3.1,5.5,1.8,'Iris-virginica'],\n",
    "    [6.0,3.0,4.8,1.8,'Iris-virginica'],\n",
    "    [6.9,3.1,5.4,2.1,'Iris-virginica'],\n",
    "    [6.7,3.1,5.6,2.4,'Iris-virginica'],\n",
    "    [6.9,3.1,5.1,2.3,'Iris-virginica'],\n",
    "    [5.8,2.7,5.1,1.9,'Iris-virginica'],\n",
    "    [6.8,3.2,5.9,2.3,'Iris-virginica'],\n",
    "    [6.7,3.3,5.7,2.5,'Iris-virginica'],\n",
    "    [6.7,3.0,5.2,2.3,'Iris-virginica'],\n",
    "    [6.3,2.5,5.0,1.9,'Iris-virginica'],\n",
    "    [6.5,3.0,5.2,2.0,'Iris-virginica'],\n",
    "    [6.2,3.4,5.4,2.3,'Iris-virginica'],\n",
    "    [5.9,3.0,5.1,1.8,'Iris-virginica']\n",
    "]"
   ]
  },
  {
   "cell_type": "markdown",
   "id": "2d9a35df",
   "metadata": {
    "papermill": {
     "duration": 0.010835,
     "end_time": "2023-04-21T05:52:20.954229",
     "exception": false,
     "start_time": "2023-04-21T05:52:20.943394",
     "status": "completed"
    },
    "tags": []
   },
   "source": [
    "## What to Do\n",
    "\n",
    "Demonstrate your understanding and ability to have synthesized course concepts by providing a walkthrough, with both code and prose, that demonstrates a simple ML workflow. Your goal is to pick an ideal **_k_** for the classifier and demonstrate a methodical justification for your selection. In the end, your work should reflect the principles seen thus far in the course.\n",
    "\n",
    "Please be sure to demonstrate:\n",
    "\n",
    "1. Splitting a data set into appropriate training and test sets\n",
    "2. \"Training\" a k-NN classifier\n",
    "3. Repeatedly testing a k-NN classifier with different values of `k`, and reporting the generalization errors for each `k`\n",
    "4. Analyzing the generalization errors for different values of `k`\n",
    "5. Identifying the ideal `k` value for this classifier, and justifying your selection by demonstrating a sound process (not just assertion)\n",
    "\n",
    "### Tips\n",
    "\n",
    "1. Be sure that you have spent time with the Exploration materials in this course.\n",
    "2. Ask questions on the course forum if you get stuck (describe what you are trying to do, and errors that you encounter)\n",
    "3. **Keep it simple.** This is more straightforward than it may initially seem.\n"
   ]
  },
  {
   "cell_type": "markdown",
   "id": "991aa475",
   "metadata": {
    "papermill": {
     "duration": 0.01077,
     "end_time": "2023-04-21T05:52:20.976121",
     "exception": false,
     "start_time": "2023-04-21T05:52:20.965351",
     "status": "completed"
    },
    "tags": []
   },
   "source": [
    "## Splitting the data set into appropriate training and testing sets\n",
    "\n",
    "I will use a simple holdout method for splitting the data into training and testing sets. The holdout method is holding back a pre-determined portion of the randomized data for testing and using the remaining portion to train the model. A general rule of thumb among practitioners is to use 80% for training and 20% for testing. \n",
    "\n",
    "I calculated how much 20% of the data would be, and after shuffling the data with the random library from Python I used that value to split the data into testing and training data sets with list slicing. I confirmed the results by printing the lengths of each list."
   ]
  },
  {
   "cell_type": "code",
   "execution_count": 3,
   "id": "0243a7ab",
   "metadata": {
    "execution": {
     "iopub.execute_input": "2023-04-21T05:52:21.000210Z",
     "iopub.status.busy": "2023-04-21T05:52:20.999789Z",
     "iopub.status.idle": "2023-04-21T05:52:21.008132Z",
     "shell.execute_reply": "2023-04-21T05:52:21.006624Z"
    },
    "papermill": {
     "duration": 0.024748,
     "end_time": "2023-04-21T05:52:21.011974",
     "exception": false,
     "start_time": "2023-04-21T05:52:20.987226",
     "status": "completed"
    },
    "tags": []
   },
   "outputs": [
    {
     "name": "stdout",
     "output_type": "stream",
     "text": [
      "Testing: 30\n",
      "Training: 120\n"
     ]
    }
   ],
   "source": [
    "#import random to be able to randomly shuffle the data\n",
    "import random\n",
    "\n",
    "# Select a percentage of data to be witheld for testing\n",
    "testing_percentage = 0.2\n",
    "\n",
    "# Calculate the number of testing items needed for the specificed percentage\n",
    "testing_number = int(len(iris_data_set) * testing_percentage)\n",
    "\n",
    "# Randomly shuffle the data\n",
    "random.shuffle(iris_data_set)\n",
    "\n",
    "# Split the data into testing and training using indicies\n",
    "iris_testing_data = iris_data_set[:testing_number]\n",
    "iris_training_data = iris_data_set[testing_number:]\n",
    "\n",
    "print(\"Testing: \" + str(len(iris_testing_data)))\n",
    "print(\"Training: \" + str(len(iris_training_data)))"
   ]
  },
  {
   "cell_type": "markdown",
   "id": "ae37cacb",
   "metadata": {
    "papermill": {
     "duration": 0.010922,
     "end_time": "2023-04-21T05:52:21.034263",
     "exception": false,
     "start_time": "2023-04-21T05:52:21.023341",
     "status": "completed"
    },
    "tags": []
   },
   "source": [
    "Notice that there are 30 records for testing, and 120 records for training. That means that 20% of the data is saved for testing as is specified in the code (30 / (30 + 120) = 0.2)."
   ]
  },
  {
   "cell_type": "markdown",
   "id": "9fc0066e",
   "metadata": {
    "papermill": {
     "duration": 0.010917,
     "end_time": "2023-04-21T05:52:21.056513",
     "exception": false,
     "start_time": "2023-04-21T05:52:21.045596",
     "status": "completed"
    },
    "tags": []
   },
   "source": [
    "## Training and Testing the kNN Classifier\n",
    "\n",
    "The next step is to train and test the kNN classifier. The class \"KnnClassifier\" has already been provided above, so I just need to use the pre-defined methods. Before I can initialize the model, I must pick a k value. In the next few steps, I will iterate with several different k values to find the best one, but for now I just want to try and run the model once. It is best practice to start k as the value of the square root of the number of training records, which in this case is 11 (sqrt(120) = 10.95). After calculating this, I followed the methods to initialize, train, and test the model.\n"
   ]
  },
  {
   "cell_type": "code",
   "execution_count": 4,
   "id": "f3d26724",
   "metadata": {
    "execution": {
     "iopub.execute_input": "2023-04-21T05:52:21.081303Z",
     "iopub.status.busy": "2023-04-21T05:52:21.080893Z",
     "iopub.status.idle": "2023-04-21T05:52:21.097293Z",
     "shell.execute_reply": "2023-04-21T05:52:21.095952Z"
    },
    "papermill": {
     "duration": 0.031882,
     "end_time": "2023-04-21T05:52:21.099889",
     "exception": false,
     "start_time": "2023-04-21T05:52:21.068007",
     "status": "completed"
    },
    "tags": []
   },
   "outputs": [
    {
     "name": "stdout",
     "output_type": "stream",
     "text": [
      "0.9333333333333333\n"
     ]
    }
   ],
   "source": [
    "# Picking an intial k value. It's best practice to start with the square root of the number of training records\n",
    "k_value = round(sqrt(len(iris_training_data))) # In our case, this rounds to 11.\n",
    "\n",
    "#Intialize, train, and test the model\n",
    "kNN_model = KnnClassifier(k=k_value)\n",
    "kNN_model.train(iris_training_data) \n",
    "accuracy = kNN_model.test(iris_testing_data)\n",
    "\n",
    "#Report the accuracy\n",
    "print(accuracy)\n",
    "    "
   ]
  },
  {
   "cell_type": "markdown",
   "id": "71c89e7a",
   "metadata": {
    "papermill": {
     "duration": 0.010899,
     "end_time": "2023-04-21T05:52:21.122063",
     "exception": false,
     "start_time": "2023-04-21T05:52:21.111164",
     "status": "completed"
    },
    "tags": []
   },
   "source": [
    "The reported generalization error for a k value of 11 is 96.7%."
   ]
  },
  {
   "cell_type": "markdown",
   "id": "5933c270",
   "metadata": {
    "papermill": {
     "duration": 0.010925,
     "end_time": "2023-04-21T05:52:21.144420",
     "exception": false,
     "start_time": "2023-04-21T05:52:21.133495",
     "status": "completed"
    },
    "tags": []
   },
   "source": [
    "## Testing for the ideal k\n",
    "\n",
    "Now that the model has run successfully, I will test many different values of k to find the ideal value. I will use a for loop to run k values from 1 to 63 (inclusive). I picked this as the limit because it was around half of the training set, which would not be too useful in predicting 3 different classes because each prediction would include many objects of a different class. This is also when I began to see a consistent trend toward lower accuracies, which I will discuss in the next section.\n",
    "\n",
    "I printed each k value and its generalization accuracy, which is the percent of correct classifications out of the 30 objects in the testing data set.\n"
   ]
  },
  {
   "cell_type": "code",
   "execution_count": 5,
   "id": "c1244533",
   "metadata": {
    "execution": {
     "iopub.execute_input": "2023-04-21T05:52:21.169177Z",
     "iopub.status.busy": "2023-04-21T05:52:21.168767Z",
     "iopub.status.idle": "2023-04-21T05:52:21.724752Z",
     "shell.execute_reply": "2023-04-21T05:52:21.722909Z"
    },
    "papermill": {
     "duration": 0.571632,
     "end_time": "2023-04-21T05:52:21.727368",
     "exception": false,
     "start_time": "2023-04-21T05:52:21.155736",
     "status": "completed"
    },
    "tags": []
   },
   "outputs": [
    {
     "name": "stdout",
     "output_type": "stream",
     "text": [
      "K value of 1 accuracy: 0.9666666666666667\n",
      "K value of 2 accuracy: 0.9666666666666667\n",
      "K value of 3 accuracy: 0.9666666666666667\n",
      "K value of 4 accuracy: 0.9666666666666667\n",
      "K value of 5 accuracy: 0.9666666666666667\n",
      "K value of 6 accuracy: 0.9666666666666667\n",
      "K value of 7 accuracy: 0.9333333333333333\n",
      "K value of 8 accuracy: 0.9333333333333333\n",
      "K value of 9 accuracy: 0.9333333333333333\n",
      "K value of 10 accuracy: 0.9333333333333333\n",
      "K value of 11 accuracy: 0.9333333333333333\n",
      "K value of 12 accuracy: 0.9333333333333333\n",
      "K value of 13 accuracy: 0.9333333333333333\n",
      "K value of 14 accuracy: 0.9333333333333333\n",
      "K value of 15 accuracy: 0.9333333333333333\n",
      "K value of 16 accuracy: 0.9333333333333333\n",
      "K value of 17 accuracy: 0.9\n",
      "K value of 18 accuracy: 0.9333333333333333\n",
      "K value of 19 accuracy: 0.8666666666666667\n",
      "K value of 20 accuracy: 0.9\n",
      "K value of 21 accuracy: 0.9\n",
      "K value of 22 accuracy: 0.9\n",
      "K value of 23 accuracy: 0.9\n",
      "K value of 24 accuracy: 0.9\n",
      "K value of 25 accuracy: 0.9\n",
      "K value of 26 accuracy: 0.9\n",
      "K value of 27 accuracy: 0.9333333333333333\n",
      "K value of 28 accuracy: 0.9\n",
      "K value of 29 accuracy: 0.9333333333333333\n",
      "K value of 30 accuracy: 0.9333333333333333\n",
      "K value of 31 accuracy: 0.9333333333333333\n",
      "K value of 32 accuracy: 0.9666666666666667\n",
      "K value of 33 accuracy: 0.9\n",
      "K value of 34 accuracy: 0.9\n",
      "K value of 35 accuracy: 0.9\n",
      "K value of 36 accuracy: 0.9\n",
      "K value of 37 accuracy: 0.9\n",
      "K value of 38 accuracy: 0.9333333333333333\n",
      "K value of 39 accuracy: 0.9\n",
      "K value of 40 accuracy: 0.9333333333333333\n",
      "K value of 41 accuracy: 0.9\n",
      "K value of 42 accuracy: 0.9\n",
      "K value of 43 accuracy: 0.9\n",
      "K value of 44 accuracy: 0.9\n",
      "K value of 45 accuracy: 0.9\n",
      "K value of 46 accuracy: 0.9\n",
      "K value of 47 accuracy: 0.9\n",
      "K value of 48 accuracy: 0.9\n",
      "K value of 49 accuracy: 0.8666666666666667\n",
      "K value of 50 accuracy: 0.9\n",
      "K value of 51 accuracy: 0.9\n",
      "K value of 52 accuracy: 0.9333333333333333\n",
      "K value of 53 accuracy: 0.9\n",
      "K value of 54 accuracy: 0.8333333333333334\n",
      "K value of 55 accuracy: 0.8\n",
      "K value of 56 accuracy: 0.8333333333333334\n",
      "K value of 57 accuracy: 0.8\n",
      "K value of 58 accuracy: 0.8\n",
      "K value of 59 accuracy: 0.7666666666666667\n",
      "K value of 60 accuracy: 0.7666666666666667\n",
      "K value of 61 accuracy: 0.7333333333333333\n",
      "K value of 62 accuracy: 0.7333333333333333\n",
      "K value of 63 accuracy: 0.7333333333333333\n"
     ]
    }
   ],
   "source": [
    "for k_value in range(1,64):\n",
    "    \n",
    "    # Intialize, train, and test the model\n",
    "    kNN_model = KnnClassifier(k=k_value)\n",
    "    kNN_model.train(iris_training_data) \n",
    "    accuracy = kNN_model.test(iris_testing_data)\n",
    "    \n",
    "    # Report the k_value and its associated accuracy\n",
    "    print(\"K value of \" + str(k_value) + \" accuracy: \" + str(accuracy))"
   ]
  },
  {
   "cell_type": "markdown",
   "id": "f6c5b67e",
   "metadata": {
    "papermill": {
     "duration": 0.011996,
     "end_time": "2023-04-21T05:52:21.751338",
     "exception": false,
     "start_time": "2023-04-21T05:52:21.739342",
     "status": "completed"
    },
    "tags": []
   },
   "source": [
    "The accuracy bounces around from 90% to a max of 96.7% back to 90% and so on until k values reach greater than 54. At that point, there is a steady decline in accuracy, ending with an accuracy of 40% for the k value of 63. I suspect that the variability is a result of the simple method used to split the data and only perform one test. If something like stratified k-fold cross validation was used, I think the reported accuracies might be less variable."
   ]
  },
  {
   "cell_type": "markdown",
   "id": "85e29979",
   "metadata": {
    "papermill": {
     "duration": 0.011591,
     "end_time": "2023-04-21T05:52:21.775072",
     "exception": false,
     "start_time": "2023-04-21T05:52:21.763481",
     "status": "completed"
    },
    "tags": []
   },
   "source": [
    "## Picking the ideal k\n",
    "\n",
    "Given the results above, the ideal k is 11. It is tied with many other k values for the highest accuracy score of 96.7%. I picked 11 over the others because it is one of the lowest values with such a high accuracy. A higher k value would help the model be more stable but would increase the computation time and be less interpretable. Both 10 and 3 also had accuracies of 96.7% and were lower than 11. I did not pick a k value of only 3 because it would make the model very sensitive to outliers and noise, and I did not pick 10 because the k value of 11 was surrounded by higher accuracies (k of 10 was 96.7%, k of 12 was 93.3%). Imagining the accuracy results plotted, a k value of 11 was near the middle of the high points in the plot. I thought this suggested that given different testing and training splits, a k value of 11 would perform better more consistently. I also felt comfortable with 11 because it was the suggested starting point for a k value based on the number of training objects in the data set.\n"
   ]
  },
  {
   "cell_type": "code",
   "execution_count": 6,
   "id": "ed08fadf",
   "metadata": {
    "execution": {
     "iopub.execute_input": "2023-04-21T05:52:21.801087Z",
     "iopub.status.busy": "2023-04-21T05:52:21.800296Z",
     "iopub.status.idle": "2023-04-21T05:52:21.815339Z",
     "shell.execute_reply": "2023-04-21T05:52:21.813806Z"
    },
    "papermill": {
     "duration": 0.030807,
     "end_time": "2023-04-21T05:52:21.817731",
     "exception": false,
     "start_time": "2023-04-21T05:52:21.786924",
     "status": "completed"
    },
    "tags": []
   },
   "outputs": [
    {
     "name": "stdout",
     "output_type": "stream",
     "text": [
      "0.9333333333333333\n"
     ]
    }
   ],
   "source": [
    "# The final code\n",
    "\n",
    "# The ideal k value I decided upon\n",
    "k_value = 11\n",
    "\n",
    "#Intialize, train, and test the model\n",
    "kNN_model = KnnClassifier(k=k_value)\n",
    "kNN_model.train(iris_training_data) \n",
    "accuracy = kNN_model.test(iris_testing_data)\n",
    "\n",
    "#Report the accuracy\n",
    "print(accuracy)"
   ]
  },
  {
   "cell_type": "markdown",
   "id": "2da28fa2",
   "metadata": {
    "papermill": {
     "duration": 0.011936,
     "end_time": "2023-04-21T05:52:21.841722",
     "exception": false,
     "start_time": "2023-04-21T05:52:21.829786",
     "status": "completed"
    },
    "tags": []
   },
   "source": [
    "## Conclusion\n",
    "\n",
    "Write a review of what you did, some key decisions you made along the way and why you made those decisions, the end result, and what you might do next or experiment with next to achieve a higher performing classifier.\n",
    "\n",
    "### 💡 Knowledge Check Part 1\n",
    "\n",
    "In part 1, I learned how to split a data set into training and testing sets with the random library from Python. I tested k values for a kNN classifier model from 1 to 63, where I began to see a consistent drop off in accuracy values. I picked a k value of 11 because it had tied with others for the highest accuracy of 96.7% and was lower while not too low to destabilize the model. Next time, I would use a more advanced way to split the data like a stratified k-fold cross validation. This would give me a more complete view of the accuracy at each k value because each model is tested with all of the data.\n"
   ]
  },
  {
   "cell_type": "markdown",
   "id": "82198acf",
   "metadata": {
    "papermill": {
     "duration": 0.01147,
     "end_time": "2023-04-21T05:52:21.865100",
     "exception": false,
     "start_time": "2023-04-21T05:52:21.853630",
     "status": "completed"
    },
    "tags": []
   },
   "source": [
    "<!-- This cell is intentionally blank -->\n",
    "<!-- This cell is intentionally blank -->\n",
    "<!-- This cell is intentionally blank -->\n",
    "<!-- This cell is intentionally blank -->\n",
    "<!-- This cell is intentionally blank -->\n",
    "<!-- This cell is intentionally blank -->\n",
    "<!-- This cell is intentionally blank -->\n"
   ]
  },
  {
   "cell_type": "markdown",
   "id": "15fa1c02",
   "metadata": {
    "papermill": {
     "duration": 0.011524,
     "end_time": "2023-04-21T05:52:21.888559",
     "exception": false,
     "start_time": "2023-04-21T05:52:21.877035",
     "status": "completed"
    },
    "tags": []
   },
   "source": [
    "# Part 2: Classifying Handwritten Digits\n",
    "\n",
    "In this, the second, part of this notebook, we will build a classifier that can assign a label, 0 - 9, to images of hand-written digits. We'll use a preprocessed subset of the well-known [MNIST database of handwritten digits](https://en.wikipedia.org/wiki/MNIST_database). Take a moment now to familiarize yourself with the subject matter of this data set, and take a look at the properties of [the UCI ML hand-written digits dataset](https://archive.ics.uci.edu/ml/datasets/Optical+Recognition+of+Handwritten+Digits).\n",
    "\n",
    "## What to Do\n",
    "\n",
    "We'll guide you one step at a time in this walkthrough of a k-NN workflow. Try out the code, answer the Knowledge Check questions along the way, and engage in a few challenges to exercise your understanding and have some fun.\n",
    "\n",
    "## Problem Statement\n",
    "\n",
    "We would like to \"transform\" sequences of handwritten digits into real numeric values that a computer can understand. For example, we would like a machine to be able to \"read\" a handwritten **8675309** and interpret each digit, resulting in the numeric string `8675309`. As such, we would like to construct a classifier that, as accurately as possible, can identify a visual representation of integers (pictures of handwritten numbers), and classify each image with one of ten labels: 0, 1, 2, 3, 4, 5, 6, 7, 8 or 9.\n",
    "\n",
    "## Obtaining the data\n",
    "\n",
    "For this experiment, we will get up and running quickly with [a subset of the MNIST data, bundled in the scikit-learn](https://scikit-learn.org/stable/modules/generated/sklearn.datasets.load_digits.html#sklearn.datasets.load_digits) library. First, let's import a typical toolkit of libraries, including pandas, matplotlib, and [scikit-learn](https://scikit-learn.org/stable/index.html).\n",
    "\n",
    "```python\n",
    "import pandas as pd\n",
    "import matplotlib.pyplot as plt\n",
    "from sklearn.datasets import load_digits\n",
    "```\n",
    "\n",
    "Here we are importing two essential libraries, and giving them aliases `pd`, `plt`, and importing the `load_digits` function, which will give use our data set.\n",
    "\n",
    "Let's load the data into memory as well, assigning it to a variable.\n",
    "\n",
    "```python\n",
    "digits = load_digits(as_frame=True)\n",
    "```\n",
    "\n",
    "Note that `load_digits` returns a [Bunch](https://scikit-learn.org/stable/modules/generated/sklearn.utils.Bunch.html#sklearn.utils.Bunch) object - not a pandas DataFrame. Review the [load_digits documentation](https://scikit-learn.org/stable/modules/generated/sklearn.datasets.load_digits.html#sklearn.datasets.load_digits) to see what the attributes of our particular Bunch are. We pass `load_digits` the named argument `as_frame=True` up front now, so that we can access the data as a DataFrame later.\n"
   ]
  },
  {
   "cell_type": "code",
   "execution_count": 7,
   "id": "a00e354e",
   "metadata": {
    "execution": {
     "iopub.execute_input": "2023-04-21T05:52:21.914019Z",
     "iopub.status.busy": "2023-04-21T05:52:21.913585Z",
     "iopub.status.idle": "2023-04-21T05:52:23.215742Z",
     "shell.execute_reply": "2023-04-21T05:52:23.214767Z"
    },
    "papermill": {
     "duration": 1.318268,
     "end_time": "2023-04-21T05:52:23.218627",
     "exception": false,
     "start_time": "2023-04-21T05:52:21.900359",
     "status": "completed"
    },
    "tags": []
   },
   "outputs": [],
   "source": [
    "import pandas as pd\n",
    "import matplotlib.pyplot as plt\n",
    "from sklearn.datasets import load_digits\n",
    "\n",
    "digits = load_digits(as_frame=True)"
   ]
  },
  {
   "cell_type": "markdown",
   "id": "5030c954",
   "metadata": {
    "papermill": {
     "duration": 0.011809,
     "end_time": "2023-04-21T05:52:23.242661",
     "exception": false,
     "start_time": "2023-04-21T05:52:23.230852",
     "status": "completed"
    },
    "tags": []
   },
   "source": [
    "## Exploring the Data\n",
    "\n",
    "Let's investigate the description, shape, feature names, and target label names of the `data` set stored in the Bunch. We know about these attributes from the documentation of [`load_digits`](https://scikit-learn.org/stable/modules/generated/sklearn.datasets.load_digits.html#sklearn.datasets.load_digits). Try inspecting each of these properties one at a time.\n",
    "\n",
    "```python\n",
    "print(digits.DESCR)\n",
    "digits.data.shape\n",
    "digits.feature_names\n",
    "digits.target_names\n",
    "\n",
    "```\n"
   ]
  },
  {
   "cell_type": "code",
   "execution_count": 8,
   "id": "c6edcbc6",
   "metadata": {
    "execution": {
     "iopub.execute_input": "2023-04-21T05:52:23.268360Z",
     "iopub.status.busy": "2023-04-21T05:52:23.267956Z",
     "iopub.status.idle": "2023-04-21T05:52:23.275507Z",
     "shell.execute_reply": "2023-04-21T05:52:23.274602Z"
    },
    "papermill": {
     "duration": 0.02309,
     "end_time": "2023-04-21T05:52:23.277727",
     "exception": false,
     "start_time": "2023-04-21T05:52:23.254637",
     "status": "completed"
    },
    "tags": []
   },
   "outputs": [
    {
     "data": {
      "text/plain": [
       "array([0, 1, 2, 3, 4, 5, 6, 7, 8, 9])"
      ]
     },
     "execution_count": 8,
     "metadata": {},
     "output_type": "execute_result"
    }
   ],
   "source": [
    "#print(digits.DESCR)\n",
    "#digits.data.shape\n",
    "#digits.feature_names\n",
    "digits.target_names"
   ]
  },
  {
   "cell_type": "markdown",
   "id": "88a044ff",
   "metadata": {
    "papermill": {
     "duration": 0.011653,
     "end_time": "2023-04-21T05:52:23.301342",
     "exception": false,
     "start_time": "2023-04-21T05:52:23.289689",
     "status": "completed"
    },
    "tags": []
   },
   "source": [
    "### 💡 Knowledge Check 1\n",
    "\n",
    "1. How many individual handwritten characters are represented in the data set?\n",
    "\n",
    "1797 individual characters.\n",
    "\n",
    "2. How many dimensions are there, not counting the class label?\n",
    "\n",
    "64 dimensions\n",
    "\n",
    "3. What do the dimensions of each record represent? (What does one row of data have to do with a handwritten digit?)\n",
    "\n",
    "Each dimension represents a different pixel. Each datapoint is an 8x8 image of a number, so there are 64 total pixels."
   ]
  },
  {
   "cell_type": "markdown",
   "id": "cd63cd8f",
   "metadata": {
    "papermill": {
     "duration": 0.011636,
     "end_time": "2023-04-21T05:52:23.325154",
     "exception": false,
     "start_time": "2023-04-21T05:52:23.313518",
     "status": "completed"
    },
    "tags": []
   },
   "source": [
    "\n",
    "#### Exploring the DataFrame\n",
    "\n",
    "Now, let's access the data as a pandas DataFrame, for convenience and some quick summary stats.\n",
    "\n",
    "```python\n",
    "frame = digits.frame\n",
    "frame\n",
    "```\n",
    "\n",
    "Here we are obtaining the DataFrame, and inspecting it within the notebook.\n"
   ]
  },
  {
   "cell_type": "code",
   "execution_count": 9,
   "id": "1534aa25",
   "metadata": {
    "execution": {
     "iopub.execute_input": "2023-04-21T05:52:23.351883Z",
     "iopub.status.busy": "2023-04-21T05:52:23.351119Z",
     "iopub.status.idle": "2023-04-21T05:52:23.404093Z",
     "shell.execute_reply": "2023-04-21T05:52:23.402741Z"
    },
    "papermill": {
     "duration": 0.069555,
     "end_time": "2023-04-21T05:52:23.406849",
     "exception": false,
     "start_time": "2023-04-21T05:52:23.337294",
     "status": "completed"
    },
    "tags": []
   },
   "outputs": [
    {
     "data": {
      "text/html": [
       "<div>\n",
       "<style scoped>\n",
       "    .dataframe tbody tr th:only-of-type {\n",
       "        vertical-align: middle;\n",
       "    }\n",
       "\n",
       "    .dataframe tbody tr th {\n",
       "        vertical-align: top;\n",
       "    }\n",
       "\n",
       "    .dataframe thead th {\n",
       "        text-align: right;\n",
       "    }\n",
       "</style>\n",
       "<table border=\"1\" class=\"dataframe\">\n",
       "  <thead>\n",
       "    <tr style=\"text-align: right;\">\n",
       "      <th></th>\n",
       "      <th>pixel_0_0</th>\n",
       "      <th>pixel_0_1</th>\n",
       "      <th>pixel_0_2</th>\n",
       "      <th>pixel_0_3</th>\n",
       "      <th>pixel_0_4</th>\n",
       "      <th>pixel_0_5</th>\n",
       "      <th>pixel_0_6</th>\n",
       "      <th>pixel_0_7</th>\n",
       "      <th>pixel_1_0</th>\n",
       "      <th>pixel_1_1</th>\n",
       "      <th>...</th>\n",
       "      <th>pixel_6_7</th>\n",
       "      <th>pixel_7_0</th>\n",
       "      <th>pixel_7_1</th>\n",
       "      <th>pixel_7_2</th>\n",
       "      <th>pixel_7_3</th>\n",
       "      <th>pixel_7_4</th>\n",
       "      <th>pixel_7_5</th>\n",
       "      <th>pixel_7_6</th>\n",
       "      <th>pixel_7_7</th>\n",
       "      <th>target</th>\n",
       "    </tr>\n",
       "  </thead>\n",
       "  <tbody>\n",
       "    <tr>\n",
       "      <th>0</th>\n",
       "      <td>0.0</td>\n",
       "      <td>0.0</td>\n",
       "      <td>5.0</td>\n",
       "      <td>13.0</td>\n",
       "      <td>9.0</td>\n",
       "      <td>1.0</td>\n",
       "      <td>0.0</td>\n",
       "      <td>0.0</td>\n",
       "      <td>0.0</td>\n",
       "      <td>0.0</td>\n",
       "      <td>...</td>\n",
       "      <td>0.0</td>\n",
       "      <td>0.0</td>\n",
       "      <td>0.0</td>\n",
       "      <td>6.0</td>\n",
       "      <td>13.0</td>\n",
       "      <td>10.0</td>\n",
       "      <td>0.0</td>\n",
       "      <td>0.0</td>\n",
       "      <td>0.0</td>\n",
       "      <td>0</td>\n",
       "    </tr>\n",
       "    <tr>\n",
       "      <th>1</th>\n",
       "      <td>0.0</td>\n",
       "      <td>0.0</td>\n",
       "      <td>0.0</td>\n",
       "      <td>12.0</td>\n",
       "      <td>13.0</td>\n",
       "      <td>5.0</td>\n",
       "      <td>0.0</td>\n",
       "      <td>0.0</td>\n",
       "      <td>0.0</td>\n",
       "      <td>0.0</td>\n",
       "      <td>...</td>\n",
       "      <td>0.0</td>\n",
       "      <td>0.0</td>\n",
       "      <td>0.0</td>\n",
       "      <td>0.0</td>\n",
       "      <td>11.0</td>\n",
       "      <td>16.0</td>\n",
       "      <td>10.0</td>\n",
       "      <td>0.0</td>\n",
       "      <td>0.0</td>\n",
       "      <td>1</td>\n",
       "    </tr>\n",
       "    <tr>\n",
       "      <th>2</th>\n",
       "      <td>0.0</td>\n",
       "      <td>0.0</td>\n",
       "      <td>0.0</td>\n",
       "      <td>4.0</td>\n",
       "      <td>15.0</td>\n",
       "      <td>12.0</td>\n",
       "      <td>0.0</td>\n",
       "      <td>0.0</td>\n",
       "      <td>0.0</td>\n",
       "      <td>0.0</td>\n",
       "      <td>...</td>\n",
       "      <td>0.0</td>\n",
       "      <td>0.0</td>\n",
       "      <td>0.0</td>\n",
       "      <td>0.0</td>\n",
       "      <td>3.0</td>\n",
       "      <td>11.0</td>\n",
       "      <td>16.0</td>\n",
       "      <td>9.0</td>\n",
       "      <td>0.0</td>\n",
       "      <td>2</td>\n",
       "    </tr>\n",
       "    <tr>\n",
       "      <th>3</th>\n",
       "      <td>0.0</td>\n",
       "      <td>0.0</td>\n",
       "      <td>7.0</td>\n",
       "      <td>15.0</td>\n",
       "      <td>13.0</td>\n",
       "      <td>1.0</td>\n",
       "      <td>0.0</td>\n",
       "      <td>0.0</td>\n",
       "      <td>0.0</td>\n",
       "      <td>8.0</td>\n",
       "      <td>...</td>\n",
       "      <td>0.0</td>\n",
       "      <td>0.0</td>\n",
       "      <td>0.0</td>\n",
       "      <td>7.0</td>\n",
       "      <td>13.0</td>\n",
       "      <td>13.0</td>\n",
       "      <td>9.0</td>\n",
       "      <td>0.0</td>\n",
       "      <td>0.0</td>\n",
       "      <td>3</td>\n",
       "    </tr>\n",
       "    <tr>\n",
       "      <th>4</th>\n",
       "      <td>0.0</td>\n",
       "      <td>0.0</td>\n",
       "      <td>0.0</td>\n",
       "      <td>1.0</td>\n",
       "      <td>11.0</td>\n",
       "      <td>0.0</td>\n",
       "      <td>0.0</td>\n",
       "      <td>0.0</td>\n",
       "      <td>0.0</td>\n",
       "      <td>0.0</td>\n",
       "      <td>...</td>\n",
       "      <td>0.0</td>\n",
       "      <td>0.0</td>\n",
       "      <td>0.0</td>\n",
       "      <td>0.0</td>\n",
       "      <td>2.0</td>\n",
       "      <td>16.0</td>\n",
       "      <td>4.0</td>\n",
       "      <td>0.0</td>\n",
       "      <td>0.0</td>\n",
       "      <td>4</td>\n",
       "    </tr>\n",
       "    <tr>\n",
       "      <th>...</th>\n",
       "      <td>...</td>\n",
       "      <td>...</td>\n",
       "      <td>...</td>\n",
       "      <td>...</td>\n",
       "      <td>...</td>\n",
       "      <td>...</td>\n",
       "      <td>...</td>\n",
       "      <td>...</td>\n",
       "      <td>...</td>\n",
       "      <td>...</td>\n",
       "      <td>...</td>\n",
       "      <td>...</td>\n",
       "      <td>...</td>\n",
       "      <td>...</td>\n",
       "      <td>...</td>\n",
       "      <td>...</td>\n",
       "      <td>...</td>\n",
       "      <td>...</td>\n",
       "      <td>...</td>\n",
       "      <td>...</td>\n",
       "      <td>...</td>\n",
       "    </tr>\n",
       "    <tr>\n",
       "      <th>1792</th>\n",
       "      <td>0.0</td>\n",
       "      <td>0.0</td>\n",
       "      <td>4.0</td>\n",
       "      <td>10.0</td>\n",
       "      <td>13.0</td>\n",
       "      <td>6.0</td>\n",
       "      <td>0.0</td>\n",
       "      <td>0.0</td>\n",
       "      <td>0.0</td>\n",
       "      <td>1.0</td>\n",
       "      <td>...</td>\n",
       "      <td>0.0</td>\n",
       "      <td>0.0</td>\n",
       "      <td>0.0</td>\n",
       "      <td>2.0</td>\n",
       "      <td>14.0</td>\n",
       "      <td>15.0</td>\n",
       "      <td>9.0</td>\n",
       "      <td>0.0</td>\n",
       "      <td>0.0</td>\n",
       "      <td>9</td>\n",
       "    </tr>\n",
       "    <tr>\n",
       "      <th>1793</th>\n",
       "      <td>0.0</td>\n",
       "      <td>0.0</td>\n",
       "      <td>6.0</td>\n",
       "      <td>16.0</td>\n",
       "      <td>13.0</td>\n",
       "      <td>11.0</td>\n",
       "      <td>1.0</td>\n",
       "      <td>0.0</td>\n",
       "      <td>0.0</td>\n",
       "      <td>0.0</td>\n",
       "      <td>...</td>\n",
       "      <td>0.0</td>\n",
       "      <td>0.0</td>\n",
       "      <td>0.0</td>\n",
       "      <td>6.0</td>\n",
       "      <td>16.0</td>\n",
       "      <td>14.0</td>\n",
       "      <td>6.0</td>\n",
       "      <td>0.0</td>\n",
       "      <td>0.0</td>\n",
       "      <td>0</td>\n",
       "    </tr>\n",
       "    <tr>\n",
       "      <th>1794</th>\n",
       "      <td>0.0</td>\n",
       "      <td>0.0</td>\n",
       "      <td>1.0</td>\n",
       "      <td>11.0</td>\n",
       "      <td>15.0</td>\n",
       "      <td>1.0</td>\n",
       "      <td>0.0</td>\n",
       "      <td>0.0</td>\n",
       "      <td>0.0</td>\n",
       "      <td>0.0</td>\n",
       "      <td>...</td>\n",
       "      <td>0.0</td>\n",
       "      <td>0.0</td>\n",
       "      <td>0.0</td>\n",
       "      <td>2.0</td>\n",
       "      <td>9.0</td>\n",
       "      <td>13.0</td>\n",
       "      <td>6.0</td>\n",
       "      <td>0.0</td>\n",
       "      <td>0.0</td>\n",
       "      <td>8</td>\n",
       "    </tr>\n",
       "    <tr>\n",
       "      <th>1795</th>\n",
       "      <td>0.0</td>\n",
       "      <td>0.0</td>\n",
       "      <td>2.0</td>\n",
       "      <td>10.0</td>\n",
       "      <td>7.0</td>\n",
       "      <td>0.0</td>\n",
       "      <td>0.0</td>\n",
       "      <td>0.0</td>\n",
       "      <td>0.0</td>\n",
       "      <td>0.0</td>\n",
       "      <td>...</td>\n",
       "      <td>0.0</td>\n",
       "      <td>0.0</td>\n",
       "      <td>0.0</td>\n",
       "      <td>5.0</td>\n",
       "      <td>12.0</td>\n",
       "      <td>16.0</td>\n",
       "      <td>12.0</td>\n",
       "      <td>0.0</td>\n",
       "      <td>0.0</td>\n",
       "      <td>9</td>\n",
       "    </tr>\n",
       "    <tr>\n",
       "      <th>1796</th>\n",
       "      <td>0.0</td>\n",
       "      <td>0.0</td>\n",
       "      <td>10.0</td>\n",
       "      <td>14.0</td>\n",
       "      <td>8.0</td>\n",
       "      <td>1.0</td>\n",
       "      <td>0.0</td>\n",
       "      <td>0.0</td>\n",
       "      <td>0.0</td>\n",
       "      <td>2.0</td>\n",
       "      <td>...</td>\n",
       "      <td>0.0</td>\n",
       "      <td>0.0</td>\n",
       "      <td>1.0</td>\n",
       "      <td>8.0</td>\n",
       "      <td>12.0</td>\n",
       "      <td>14.0</td>\n",
       "      <td>12.0</td>\n",
       "      <td>1.0</td>\n",
       "      <td>0.0</td>\n",
       "      <td>8</td>\n",
       "    </tr>\n",
       "  </tbody>\n",
       "</table>\n",
       "<p>1797 rows × 65 columns</p>\n",
       "</div>"
      ],
      "text/plain": [
       "      pixel_0_0  pixel_0_1  pixel_0_2  pixel_0_3  pixel_0_4  pixel_0_5  \\\n",
       "0           0.0        0.0        5.0       13.0        9.0        1.0   \n",
       "1           0.0        0.0        0.0       12.0       13.0        5.0   \n",
       "2           0.0        0.0        0.0        4.0       15.0       12.0   \n",
       "3           0.0        0.0        7.0       15.0       13.0        1.0   \n",
       "4           0.0        0.0        0.0        1.0       11.0        0.0   \n",
       "...         ...        ...        ...        ...        ...        ...   \n",
       "1792        0.0        0.0        4.0       10.0       13.0        6.0   \n",
       "1793        0.0        0.0        6.0       16.0       13.0       11.0   \n",
       "1794        0.0        0.0        1.0       11.0       15.0        1.0   \n",
       "1795        0.0        0.0        2.0       10.0        7.0        0.0   \n",
       "1796        0.0        0.0       10.0       14.0        8.0        1.0   \n",
       "\n",
       "      pixel_0_6  pixel_0_7  pixel_1_0  pixel_1_1  ...  pixel_6_7  pixel_7_0  \\\n",
       "0           0.0        0.0        0.0        0.0  ...        0.0        0.0   \n",
       "1           0.0        0.0        0.0        0.0  ...        0.0        0.0   \n",
       "2           0.0        0.0        0.0        0.0  ...        0.0        0.0   \n",
       "3           0.0        0.0        0.0        8.0  ...        0.0        0.0   \n",
       "4           0.0        0.0        0.0        0.0  ...        0.0        0.0   \n",
       "...         ...        ...        ...        ...  ...        ...        ...   \n",
       "1792        0.0        0.0        0.0        1.0  ...        0.0        0.0   \n",
       "1793        1.0        0.0        0.0        0.0  ...        0.0        0.0   \n",
       "1794        0.0        0.0        0.0        0.0  ...        0.0        0.0   \n",
       "1795        0.0        0.0        0.0        0.0  ...        0.0        0.0   \n",
       "1796        0.0        0.0        0.0        2.0  ...        0.0        0.0   \n",
       "\n",
       "      pixel_7_1  pixel_7_2  pixel_7_3  pixel_7_4  pixel_7_5  pixel_7_6  \\\n",
       "0           0.0        6.0       13.0       10.0        0.0        0.0   \n",
       "1           0.0        0.0       11.0       16.0       10.0        0.0   \n",
       "2           0.0        0.0        3.0       11.0       16.0        9.0   \n",
       "3           0.0        7.0       13.0       13.0        9.0        0.0   \n",
       "4           0.0        0.0        2.0       16.0        4.0        0.0   \n",
       "...         ...        ...        ...        ...        ...        ...   \n",
       "1792        0.0        2.0       14.0       15.0        9.0        0.0   \n",
       "1793        0.0        6.0       16.0       14.0        6.0        0.0   \n",
       "1794        0.0        2.0        9.0       13.0        6.0        0.0   \n",
       "1795        0.0        5.0       12.0       16.0       12.0        0.0   \n",
       "1796        1.0        8.0       12.0       14.0       12.0        1.0   \n",
       "\n",
       "      pixel_7_7  target  \n",
       "0           0.0       0  \n",
       "1           0.0       1  \n",
       "2           0.0       2  \n",
       "3           0.0       3  \n",
       "4           0.0       4  \n",
       "...         ...     ...  \n",
       "1792        0.0       9  \n",
       "1793        0.0       0  \n",
       "1794        0.0       8  \n",
       "1795        0.0       9  \n",
       "1796        0.0       8  \n",
       "\n",
       "[1797 rows x 65 columns]"
      ]
     },
     "execution_count": 9,
     "metadata": {},
     "output_type": "execute_result"
    }
   ],
   "source": [
    "frame = digits.frame\n",
    "frame"
   ]
  },
  {
   "cell_type": "markdown",
   "id": "83a32b99",
   "metadata": {
    "papermill": {
     "duration": 0.012211,
     "end_time": "2023-04-21T05:52:23.431812",
     "exception": false,
     "start_time": "2023-04-21T05:52:23.419601",
     "status": "completed"
    },
    "tags": []
   },
   "source": [
    "Let's investigate some summary statistics with `describe`.\n",
    "\n",
    "```python\n",
    "frame.describe()\n",
    "```"
   ]
  },
  {
   "cell_type": "code",
   "execution_count": 10,
   "id": "0f480415",
   "metadata": {
    "execution": {
     "iopub.execute_input": "2023-04-21T05:52:23.459350Z",
     "iopub.status.busy": "2023-04-21T05:52:23.458246Z",
     "iopub.status.idle": "2023-04-21T05:52:23.635274Z",
     "shell.execute_reply": "2023-04-21T05:52:23.633980Z"
    },
    "papermill": {
     "duration": 0.193428,
     "end_time": "2023-04-21T05:52:23.637758",
     "exception": false,
     "start_time": "2023-04-21T05:52:23.444330",
     "status": "completed"
    },
    "tags": []
   },
   "outputs": [
    {
     "data": {
      "text/html": [
       "<div>\n",
       "<style scoped>\n",
       "    .dataframe tbody tr th:only-of-type {\n",
       "        vertical-align: middle;\n",
       "    }\n",
       "\n",
       "    .dataframe tbody tr th {\n",
       "        vertical-align: top;\n",
       "    }\n",
       "\n",
       "    .dataframe thead th {\n",
       "        text-align: right;\n",
       "    }\n",
       "</style>\n",
       "<table border=\"1\" class=\"dataframe\">\n",
       "  <thead>\n",
       "    <tr style=\"text-align: right;\">\n",
       "      <th></th>\n",
       "      <th>pixel_0_0</th>\n",
       "      <th>pixel_0_1</th>\n",
       "      <th>pixel_0_2</th>\n",
       "      <th>pixel_0_3</th>\n",
       "      <th>pixel_0_4</th>\n",
       "      <th>pixel_0_5</th>\n",
       "      <th>pixel_0_6</th>\n",
       "      <th>pixel_0_7</th>\n",
       "      <th>pixel_1_0</th>\n",
       "      <th>pixel_1_1</th>\n",
       "      <th>...</th>\n",
       "      <th>pixel_6_7</th>\n",
       "      <th>pixel_7_0</th>\n",
       "      <th>pixel_7_1</th>\n",
       "      <th>pixel_7_2</th>\n",
       "      <th>pixel_7_3</th>\n",
       "      <th>pixel_7_4</th>\n",
       "      <th>pixel_7_5</th>\n",
       "      <th>pixel_7_6</th>\n",
       "      <th>pixel_7_7</th>\n",
       "      <th>target</th>\n",
       "    </tr>\n",
       "  </thead>\n",
       "  <tbody>\n",
       "    <tr>\n",
       "      <th>count</th>\n",
       "      <td>1797.0</td>\n",
       "      <td>1797.000000</td>\n",
       "      <td>1797.000000</td>\n",
       "      <td>1797.000000</td>\n",
       "      <td>1797.000000</td>\n",
       "      <td>1797.000000</td>\n",
       "      <td>1797.000000</td>\n",
       "      <td>1797.000000</td>\n",
       "      <td>1797.000000</td>\n",
       "      <td>1797.000000</td>\n",
       "      <td>...</td>\n",
       "      <td>1797.000000</td>\n",
       "      <td>1797.000000</td>\n",
       "      <td>1797.000000</td>\n",
       "      <td>1797.000000</td>\n",
       "      <td>1797.000000</td>\n",
       "      <td>1797.000000</td>\n",
       "      <td>1797.000000</td>\n",
       "      <td>1797.000000</td>\n",
       "      <td>1797.000000</td>\n",
       "      <td>1797.000000</td>\n",
       "    </tr>\n",
       "    <tr>\n",
       "      <th>mean</th>\n",
       "      <td>0.0</td>\n",
       "      <td>0.303840</td>\n",
       "      <td>5.204786</td>\n",
       "      <td>11.835838</td>\n",
       "      <td>11.848080</td>\n",
       "      <td>5.781859</td>\n",
       "      <td>1.362270</td>\n",
       "      <td>0.129661</td>\n",
       "      <td>0.005565</td>\n",
       "      <td>1.993879</td>\n",
       "      <td>...</td>\n",
       "      <td>0.206455</td>\n",
       "      <td>0.000556</td>\n",
       "      <td>0.279354</td>\n",
       "      <td>5.557596</td>\n",
       "      <td>12.089037</td>\n",
       "      <td>11.809126</td>\n",
       "      <td>6.764051</td>\n",
       "      <td>2.067891</td>\n",
       "      <td>0.364496</td>\n",
       "      <td>4.490818</td>\n",
       "    </tr>\n",
       "    <tr>\n",
       "      <th>std</th>\n",
       "      <td>0.0</td>\n",
       "      <td>0.907192</td>\n",
       "      <td>4.754826</td>\n",
       "      <td>4.248842</td>\n",
       "      <td>4.287388</td>\n",
       "      <td>5.666418</td>\n",
       "      <td>3.325775</td>\n",
       "      <td>1.037383</td>\n",
       "      <td>0.094222</td>\n",
       "      <td>3.196160</td>\n",
       "      <td>...</td>\n",
       "      <td>0.984401</td>\n",
       "      <td>0.023590</td>\n",
       "      <td>0.934302</td>\n",
       "      <td>5.103019</td>\n",
       "      <td>4.374694</td>\n",
       "      <td>4.933947</td>\n",
       "      <td>5.900623</td>\n",
       "      <td>4.090548</td>\n",
       "      <td>1.860122</td>\n",
       "      <td>2.865304</td>\n",
       "    </tr>\n",
       "    <tr>\n",
       "      <th>min</th>\n",
       "      <td>0.0</td>\n",
       "      <td>0.000000</td>\n",
       "      <td>0.000000</td>\n",
       "      <td>0.000000</td>\n",
       "      <td>0.000000</td>\n",
       "      <td>0.000000</td>\n",
       "      <td>0.000000</td>\n",
       "      <td>0.000000</td>\n",
       "      <td>0.000000</td>\n",
       "      <td>0.000000</td>\n",
       "      <td>...</td>\n",
       "      <td>0.000000</td>\n",
       "      <td>0.000000</td>\n",
       "      <td>0.000000</td>\n",
       "      <td>0.000000</td>\n",
       "      <td>0.000000</td>\n",
       "      <td>0.000000</td>\n",
       "      <td>0.000000</td>\n",
       "      <td>0.000000</td>\n",
       "      <td>0.000000</td>\n",
       "      <td>0.000000</td>\n",
       "    </tr>\n",
       "    <tr>\n",
       "      <th>25%</th>\n",
       "      <td>0.0</td>\n",
       "      <td>0.000000</td>\n",
       "      <td>1.000000</td>\n",
       "      <td>10.000000</td>\n",
       "      <td>10.000000</td>\n",
       "      <td>0.000000</td>\n",
       "      <td>0.000000</td>\n",
       "      <td>0.000000</td>\n",
       "      <td>0.000000</td>\n",
       "      <td>0.000000</td>\n",
       "      <td>...</td>\n",
       "      <td>0.000000</td>\n",
       "      <td>0.000000</td>\n",
       "      <td>0.000000</td>\n",
       "      <td>1.000000</td>\n",
       "      <td>11.000000</td>\n",
       "      <td>10.000000</td>\n",
       "      <td>0.000000</td>\n",
       "      <td>0.000000</td>\n",
       "      <td>0.000000</td>\n",
       "      <td>2.000000</td>\n",
       "    </tr>\n",
       "    <tr>\n",
       "      <th>50%</th>\n",
       "      <td>0.0</td>\n",
       "      <td>0.000000</td>\n",
       "      <td>4.000000</td>\n",
       "      <td>13.000000</td>\n",
       "      <td>13.000000</td>\n",
       "      <td>4.000000</td>\n",
       "      <td>0.000000</td>\n",
       "      <td>0.000000</td>\n",
       "      <td>0.000000</td>\n",
       "      <td>0.000000</td>\n",
       "      <td>...</td>\n",
       "      <td>0.000000</td>\n",
       "      <td>0.000000</td>\n",
       "      <td>0.000000</td>\n",
       "      <td>4.000000</td>\n",
       "      <td>13.000000</td>\n",
       "      <td>14.000000</td>\n",
       "      <td>6.000000</td>\n",
       "      <td>0.000000</td>\n",
       "      <td>0.000000</td>\n",
       "      <td>4.000000</td>\n",
       "    </tr>\n",
       "    <tr>\n",
       "      <th>75%</th>\n",
       "      <td>0.0</td>\n",
       "      <td>0.000000</td>\n",
       "      <td>9.000000</td>\n",
       "      <td>15.000000</td>\n",
       "      <td>15.000000</td>\n",
       "      <td>11.000000</td>\n",
       "      <td>0.000000</td>\n",
       "      <td>0.000000</td>\n",
       "      <td>0.000000</td>\n",
       "      <td>3.000000</td>\n",
       "      <td>...</td>\n",
       "      <td>0.000000</td>\n",
       "      <td>0.000000</td>\n",
       "      <td>0.000000</td>\n",
       "      <td>10.000000</td>\n",
       "      <td>16.000000</td>\n",
       "      <td>16.000000</td>\n",
       "      <td>12.000000</td>\n",
       "      <td>2.000000</td>\n",
       "      <td>0.000000</td>\n",
       "      <td>7.000000</td>\n",
       "    </tr>\n",
       "    <tr>\n",
       "      <th>max</th>\n",
       "      <td>0.0</td>\n",
       "      <td>8.000000</td>\n",
       "      <td>16.000000</td>\n",
       "      <td>16.000000</td>\n",
       "      <td>16.000000</td>\n",
       "      <td>16.000000</td>\n",
       "      <td>16.000000</td>\n",
       "      <td>15.000000</td>\n",
       "      <td>2.000000</td>\n",
       "      <td>16.000000</td>\n",
       "      <td>...</td>\n",
       "      <td>13.000000</td>\n",
       "      <td>1.000000</td>\n",
       "      <td>9.000000</td>\n",
       "      <td>16.000000</td>\n",
       "      <td>16.000000</td>\n",
       "      <td>16.000000</td>\n",
       "      <td>16.000000</td>\n",
       "      <td>16.000000</td>\n",
       "      <td>16.000000</td>\n",
       "      <td>9.000000</td>\n",
       "    </tr>\n",
       "  </tbody>\n",
       "</table>\n",
       "<p>8 rows × 65 columns</p>\n",
       "</div>"
      ],
      "text/plain": [
       "       pixel_0_0    pixel_0_1    pixel_0_2    pixel_0_3    pixel_0_4  \\\n",
       "count     1797.0  1797.000000  1797.000000  1797.000000  1797.000000   \n",
       "mean         0.0     0.303840     5.204786    11.835838    11.848080   \n",
       "std          0.0     0.907192     4.754826     4.248842     4.287388   \n",
       "min          0.0     0.000000     0.000000     0.000000     0.000000   \n",
       "25%          0.0     0.000000     1.000000    10.000000    10.000000   \n",
       "50%          0.0     0.000000     4.000000    13.000000    13.000000   \n",
       "75%          0.0     0.000000     9.000000    15.000000    15.000000   \n",
       "max          0.0     8.000000    16.000000    16.000000    16.000000   \n",
       "\n",
       "         pixel_0_5    pixel_0_6    pixel_0_7    pixel_1_0    pixel_1_1  ...  \\\n",
       "count  1797.000000  1797.000000  1797.000000  1797.000000  1797.000000  ...   \n",
       "mean      5.781859     1.362270     0.129661     0.005565     1.993879  ...   \n",
       "std       5.666418     3.325775     1.037383     0.094222     3.196160  ...   \n",
       "min       0.000000     0.000000     0.000000     0.000000     0.000000  ...   \n",
       "25%       0.000000     0.000000     0.000000     0.000000     0.000000  ...   \n",
       "50%       4.000000     0.000000     0.000000     0.000000     0.000000  ...   \n",
       "75%      11.000000     0.000000     0.000000     0.000000     3.000000  ...   \n",
       "max      16.000000    16.000000    15.000000     2.000000    16.000000  ...   \n",
       "\n",
       "         pixel_6_7    pixel_7_0    pixel_7_1    pixel_7_2    pixel_7_3  \\\n",
       "count  1797.000000  1797.000000  1797.000000  1797.000000  1797.000000   \n",
       "mean      0.206455     0.000556     0.279354     5.557596    12.089037   \n",
       "std       0.984401     0.023590     0.934302     5.103019     4.374694   \n",
       "min       0.000000     0.000000     0.000000     0.000000     0.000000   \n",
       "25%       0.000000     0.000000     0.000000     1.000000    11.000000   \n",
       "50%       0.000000     0.000000     0.000000     4.000000    13.000000   \n",
       "75%       0.000000     0.000000     0.000000    10.000000    16.000000   \n",
       "max      13.000000     1.000000     9.000000    16.000000    16.000000   \n",
       "\n",
       "         pixel_7_4    pixel_7_5    pixel_7_6    pixel_7_7       target  \n",
       "count  1797.000000  1797.000000  1797.000000  1797.000000  1797.000000  \n",
       "mean     11.809126     6.764051     2.067891     0.364496     4.490818  \n",
       "std       4.933947     5.900623     4.090548     1.860122     2.865304  \n",
       "min       0.000000     0.000000     0.000000     0.000000     0.000000  \n",
       "25%      10.000000     0.000000     0.000000     0.000000     2.000000  \n",
       "50%      14.000000     6.000000     0.000000     0.000000     4.000000  \n",
       "75%      16.000000    12.000000     2.000000     0.000000     7.000000  \n",
       "max      16.000000    16.000000    16.000000    16.000000     9.000000  \n",
       "\n",
       "[8 rows x 65 columns]"
      ]
     },
     "execution_count": 10,
     "metadata": {},
     "output_type": "execute_result"
    }
   ],
   "source": [
    "frame.describe()"
   ]
  },
  {
   "cell_type": "markdown",
   "id": "00807e6f",
   "metadata": {
    "papermill": {
     "duration": 0.012615,
     "end_time": "2023-04-21T05:52:23.663501",
     "exception": false,
     "start_time": "2023-04-21T05:52:23.650886",
     "status": "completed"
    },
    "tags": []
   },
   "source": [
    "We know from `DESCR` that the pixel values range from 0 to 16, and our quick survey of `describe` seems to confirm this, so we'll move forward with our assumptions about the data set. (In addition, `DESCR` promises us that there are no missing values - the preprocessing work has been done.)"
   ]
  },
  {
   "cell_type": "markdown",
   "id": "2d1b5521",
   "metadata": {
    "papermill": {
     "duration": 0.012662,
     "end_time": "2023-04-21T05:52:23.689010",
     "exception": false,
     "start_time": "2023-04-21T05:52:23.676348",
     "status": "completed"
    },
    "tags": []
   },
   "source": [
    "### 💡 Knowledge Check 2\n",
    "\n",
    "Based on the summary statistics, what is interesting about attribute *pixel_0_0*, and what do those interesting qualities lead you to conclude? Please describe it in very approachable terms, regarding the handwritten images, that anyone can understand.\n",
    "\n",
    "The pixel_0_0 is interesting because the value is always 0. My best guess is that the pixel was intentionally left blank as a control measure for when the programs by NIST extracted the values from the handwritten forms. If there were values in that pixel, the reseachers would know something was wrong with the extraction process."
   ]
  },
  {
   "cell_type": "markdown",
   "id": "331171d7",
   "metadata": {
    "papermill": {
     "duration": 0.012711,
     "end_time": "2023-04-21T05:52:23.714731",
     "exception": false,
     "start_time": "2023-04-21T05:52:23.702020",
     "status": "completed"
    },
    "tags": []
   },
   "source": [
    "## Visualize the Data\n",
    "\n",
    "Let's take a visual look at one of the images. The `digits` Bunch has a property, `images`, that is an array of all of the raw image data. Let's access one image and visualize it on the screen.\n",
    "\n",
    "```python\n",
    "plt.gray()\n",
    "plt.matshow(digits.images[0])\n",
    "plt.show()\n",
    "```\n"
   ]
  },
  {
   "cell_type": "code",
   "execution_count": 11,
   "id": "bb33580c",
   "metadata": {
    "execution": {
     "iopub.execute_input": "2023-04-21T05:52:23.742740Z",
     "iopub.status.busy": "2023-04-21T05:52:23.742308Z",
     "iopub.status.idle": "2023-04-21T05:52:24.102733Z",
     "shell.execute_reply": "2023-04-21T05:52:24.101753Z"
    },
    "papermill": {
     "duration": 0.377577,
     "end_time": "2023-04-21T05:52:24.105361",
     "exception": false,
     "start_time": "2023-04-21T05:52:23.727784",
     "status": "completed"
    },
    "tags": []
   },
   "outputs": [
    {
     "data": {
      "text/plain": [
       "<Figure size 640x480 with 0 Axes>"
      ]
     },
     "metadata": {},
     "output_type": "display_data"
    },
    {
     "data": {
      "image/png": "[encoded data removed]",
      "text/plain": [
       "<Figure size 480x480 with 1 Axes>"
      ]
     },
     "metadata": {},
     "output_type": "display_data"
    }
   ],
   "source": [
    "plt.gray()\n",
    "plt.matshow(digits.images[0])\n",
    "plt.show()"
   ]
  },
  {
   "cell_type": "markdown",
   "id": "bb0eabda",
   "metadata": {
    "papermill": {
     "duration": 0.013177,
     "end_time": "2023-04-21T05:52:24.132235",
     "exception": false,
     "start_time": "2023-04-21T05:52:24.119058",
     "status": "completed"
    },
    "tags": []
   },
   "source": [
    "### 💡 Knowledge Check 3\n",
    "\n",
    "1. The figure is drawn at a scale of 640x480 pixels, but how many pixels wide and tall are the actual character images?\n",
    "\n",
    "The actual character images are 8x8 pixels.\n",
    "\n",
    "2. What does this have to do with the dimensions of the data set?\n",
    "\n",
    "This is why there are 64 features (or 64 dimensions), because 8x8=64. There are a total of 64 pixels, and each pixel has a number assigned to it from 0 to 16. These 64 numbers are the features for each character."
   ]
  },
  {
   "cell_type": "markdown",
   "id": "268c4b46",
   "metadata": {
    "papermill": {
     "duration": 0.012986,
     "end_time": "2023-04-21T05:52:24.158648",
     "exception": false,
     "start_time": "2023-04-21T05:52:24.145662",
     "status": "completed"
    },
    "tags": []
   },
   "source": [
    "## Prepare the Training and Validation Sets\n",
    "\n",
    "With preprocessing gratefully handled for us, we now turn to creating our training set and validation sets. While we could manually implement our own sampling technique, this time we will lean on the `sklearn.model_selection.train_test_split` method. Be sure to check out the documentation for [`train_test_split`](https://scikit-learn.org/stable/modules/generated/sklearn.model_selection.train_test_split.html).\n",
    "\n",
    "```python\n",
    "from sklearn.model_selection import train_test_split\n",
    "\n",
    "X_train, X_test, y_train, y_test = train_test_split(digits.data, digits.target, test_size=0.2, random_state=0)\n",
    "```\n",
    "\n",
    "Notice how we pass `train_test_split` two arrays: one array, `digits.data`, containing all of the attributes except the class label dimension, and a second array, `digits.target`, containing the class labels for each record in the data set. We also specify that we'd like to use 80% of the records for training, and 20% of the records for testing. (Here we are also assigning `0` to `random_state`, and this is only for the sake of this exercise, to control the random seed so that running our notebook repeatedly gives us the same, albeit randomized, sampling.)\n",
    "\n",
    "The function `train_test_split` returns four arrays, conveniently splitting our complete data set into randomized training and validation sets:\n",
    "\n",
    "- `X_train`: our training records, without the class labels\n",
    "- `y_train`: the class labels for our training records\n",
    "- `X_test`: our validation records, without the class labels\n",
    "- `y_test`: the class labels for our validation records\n",
    "\n",
    "This is a very common naming convention we see in practice, so we'll abide by it here."
   ]
  },
  {
   "cell_type": "code",
   "execution_count": 12,
   "id": "75c82e70",
   "metadata": {
    "execution": {
     "iopub.execute_input": "2023-04-21T05:52:24.187805Z",
     "iopub.status.busy": "2023-04-21T05:52:24.187295Z",
     "iopub.status.idle": "2023-04-21T05:52:24.260487Z",
     "shell.execute_reply": "2023-04-21T05:52:24.259078Z"
    },
    "papermill": {
     "duration": 0.091286,
     "end_time": "2023-04-21T05:52:24.263485",
     "exception": false,
     "start_time": "2023-04-21T05:52:24.172199",
     "status": "completed"
    },
    "tags": []
   },
   "outputs": [],
   "source": [
    "from sklearn.model_selection import train_test_split\n",
    "\n",
    "X_train, X_test, y_train, y_test = train_test_split(digits.data, digits.target, test_size=0.2, random_state=0)"
   ]
  },
  {
   "cell_type": "markdown",
   "id": "9480031f",
   "metadata": {
    "papermill": {
     "duration": 0.01318,
     "end_time": "2023-04-21T05:52:24.290347",
     "exception": false,
     "start_time": "2023-04-21T05:52:24.277167",
     "status": "completed"
    },
    "tags": []
   },
   "source": [
    "## Instantiate and \"Train\" our Classifier\n",
    "\n",
    "We'll next instantiate a k-NN classifier provided by scikit-learn: the [KNeighborsClassifier](https://scikit-learn.org/stable/modules/generated/sklearn.neighbors.KNeighborsClassifier.html). Please be sure to read the documentation, noticing both the parameters we can pass the KNeighborsClassifier initializer, such as the distance metric to use, and in particular, `n_neighbors` which is our **_k_**.\n",
    "\n",
    "We'll rely on some defaults, but start with a fairly unsurprising **_k_**, the square root of the number of records in the training set.\n",
    "\n",
    "```python\n",
    "from sklearn.neighbors import KNeighborsClassifier\n",
    "\n",
    "classifier = KNeighborsClassifier(n_neighbors = int(sqrt(len(X_train))))\n",
    "```\n",
    "\n",
    "Import the KNeighborsClassifier and instantiate it the next code cell."
   ]
  },
  {
   "cell_type": "code",
   "execution_count": 13,
   "id": "509ca5c6",
   "metadata": {
    "execution": {
     "iopub.execute_input": "2023-04-21T05:52:24.319719Z",
     "iopub.status.busy": "2023-04-21T05:52:24.319224Z",
     "iopub.status.idle": "2023-04-21T05:52:24.514024Z",
     "shell.execute_reply": "2023-04-21T05:52:24.512919Z"
    },
    "papermill": {
     "duration": 0.212794,
     "end_time": "2023-04-21T05:52:24.516906",
     "exception": false,
     "start_time": "2023-04-21T05:52:24.304112",
     "status": "completed"
    },
    "tags": []
   },
   "outputs": [],
   "source": [
    "from sklearn.neighbors import KNeighborsClassifier\n",
    "\n",
    "classifier = KNeighborsClassifier(n_neighbors = int(sqrt(len(X_train))))"
   ]
  },
  {
   "cell_type": "markdown",
   "id": "fdd573f3",
   "metadata": {
    "papermill": {
     "duration": 0.013115,
     "end_time": "2023-04-21T05:52:24.543503",
     "exception": false,
     "start_time": "2023-04-21T05:52:24.530388",
     "status": "completed"
    },
    "tags": []
   },
   "source": [
    "Next, we have to \"train our model,\" but, as we know, k-NN classifiers are instance-based learners with no initial training computation. All we need to do is provide the classifier with the training data.\n",
    "\n",
    "```python\n",
    "classifier.fit(X_train, y_train)\n",
    "```\n",
    "\n",
    "Here we invoke the commonplace `fit` method found in tha API of many pre-built classification models. Here, we simply pass it our training data."
   ]
  },
  {
   "cell_type": "code",
   "execution_count": 14,
   "id": "f01edc4b",
   "metadata": {
    "execution": {
     "iopub.execute_input": "2023-04-21T05:52:24.572959Z",
     "iopub.status.busy": "2023-04-21T05:52:24.571982Z",
     "iopub.status.idle": "2023-04-21T05:52:24.589198Z",
     "shell.execute_reply": "2023-04-21T05:52:24.587882Z"
    },
    "papermill": {
     "duration": 0.034449,
     "end_time": "2023-04-21T05:52:24.591600",
     "exception": false,
     "start_time": "2023-04-21T05:52:24.557151",
     "status": "completed"
    },
    "tags": []
   },
   "outputs": [
    {
     "data": {
      "text/plain": [
       "KNeighborsClassifier(n_neighbors=37)"
      ]
     },
     "execution_count": 14,
     "metadata": {},
     "output_type": "execute_result"
    }
   ],
   "source": [
    "classifier.fit(X_train, y_train)"
   ]
  },
  {
   "cell_type": "markdown",
   "id": "6b1e68dd",
   "metadata": {
    "papermill": {
     "duration": 0.013826,
     "end_time": "2023-04-21T05:52:24.619006",
     "exception": false,
     "start_time": "2023-04-21T05:52:24.605180",
     "status": "completed"
    },
    "tags": []
   },
   "source": [
    "### 💡 Knowledge Check 4\n",
    "\n",
    "Using the documentation, investigate the other \"nearest neighbor\" classifiers in the scikit-learn library, in the `sklearn.neighbors` namespace. Identify (name) two other classifiers, and briefly describe how they are different from KNeighborsClassifier. Don't just regurgitate the documentation - do a little online sleuthing to see how they are useful, and share that information here.\n",
    "\n",
    "The`RadiusNeighborsClassifier` is different than the `KNeighborsClassifier` because instead of considering a fixed number of neighbors k, it considers all neighbors within a fixed radius. This classifier is useful when there is a non-uniform distribution of samples, so a fixed number of neighbors is not ideal for differentiating between every class.\n",
    "\n",
    "`NearestCentroid` is different than the `KNeighborsClassifier` because instead of looking at individual neighbors, it calculates the centroid of the training samples for each class. Then the predictions are made based on the closest centroid point. This would work well where classes are well-separated, but would not be ideal for overlapping or noisy data sets. \n"
   ]
  },
  {
   "cell_type": "markdown",
   "id": "5964e996",
   "metadata": {
    "papermill": {
     "duration": 0.01304,
     "end_time": "2023-04-21T05:52:24.645973",
     "exception": false,
     "start_time": "2023-04-21T05:52:24.632933",
     "status": "completed"
    },
    "tags": []
   },
   "source": [
    "## Validate (Test) Our Classifier\n",
    "\n",
    "The next step in our ML process is to see how well our classifier performs, given our training set and, in this case, our initial **_k_**. We'll ask the classifier to predict the class label for every record in our validation set, `X_test`. Then, we'll compare those predictions with the actual class labels, in `y_test`, and compute an accuracy score. Rather than do this manually, we'll rely on the scikit-learn [`accuracy_score`](https://scikit-learn.org/stable/modules/generated/sklearn.metrics.accuracy_score.html) function. Be sure to read the documentation for `accuracy_score`.\n",
    "\n",
    "```python\n",
    "from sklearn.metrics import accuracy_score\n",
    "\n",
    "y_predictions = classifier.predict(X_test)\n",
    "accuracy = accuracy_score(y_test, y_predictions)\n",
    "```\n",
    "\n",
    "Here we invoke the KNeighborsClassifier `predict` method, which returns an array of predicted class labels for each record in `X_test`, that we assign to `y_predictions`. We then pass `accuracy_score` the known correct class labels for the validation set, `y_test`, and the predicted labels, `y_predictions`, and let it make the comparisons, tally up the correct matches, and compute and return an accuracy score between 0 and 1.\n"
   ]
  },
  {
   "cell_type": "code",
   "execution_count": 15,
   "id": "8b00420e",
   "metadata": {
    "execution": {
     "iopub.execute_input": "2023-04-21T05:52:24.674746Z",
     "iopub.status.busy": "2023-04-21T05:52:24.674281Z",
     "iopub.status.idle": "2023-04-21T05:52:24.737059Z",
     "shell.execute_reply": "2023-04-21T05:52:24.735208Z"
    },
    "papermill": {
     "duration": 0.082693,
     "end_time": "2023-04-21T05:52:24.742139",
     "exception": false,
     "start_time": "2023-04-21T05:52:24.659446",
     "status": "completed"
    },
    "tags": []
   },
   "outputs": [],
   "source": [
    "from sklearn.metrics import accuracy_score\n",
    "\n",
    "y_predictions = classifier.predict(X_test)\n",
    "accuracy = accuracy_score(y_test, y_predictions)"
   ]
  },
  {
   "cell_type": "markdown",
   "id": "ae553bd1",
   "metadata": {
    "papermill": {
     "duration": 0.031946,
     "end_time": "2023-04-21T05:52:24.809113",
     "exception": false,
     "start_time": "2023-04-21T05:52:24.777167",
     "status": "completed"
    },
    "tags": []
   },
   "source": [
    "Now, let's inspect that accuracy score by simply printing it.\n",
    "\n",
    "```python\n",
    "print(accuracy)\n",
    "```\n"
   ]
  },
  {
   "cell_type": "code",
   "execution_count": 16,
   "id": "f7518504",
   "metadata": {
    "execution": {
     "iopub.execute_input": "2023-04-21T05:52:24.837606Z",
     "iopub.status.busy": "2023-04-21T05:52:24.837154Z",
     "iopub.status.idle": "2023-04-21T05:52:24.843518Z",
     "shell.execute_reply": "2023-04-21T05:52:24.842183Z"
    },
    "papermill": {
     "duration": 0.023958,
     "end_time": "2023-04-21T05:52:24.846351",
     "exception": false,
     "start_time": "2023-04-21T05:52:24.822393",
     "status": "completed"
    },
    "tags": []
   },
   "outputs": [
    {
     "name": "stdout",
     "output_type": "stream",
     "text": [
      "0.9611111111111111\n"
     ]
    }
   ],
   "source": [
    "print(accuracy)"
   ]
  },
  {
   "cell_type": "markdown",
   "id": "ee9a6fc6",
   "metadata": {
    "papermill": {
     "duration": 0.013272,
     "end_time": "2023-04-21T05:52:24.873330",
     "exception": false,
     "start_time": "2023-04-21T05:52:24.860058",
     "status": "completed"
    },
    "tags": []
   },
   "source": [
    "Hm - not bad!\n",
    "\n",
    "There's one more way we can analyze the performance of our classifier: by inspecting a matrix of expected vs predicted class labels, known as a *confusion matrix*. For each cell in the matrix, we'll see the number of predictions, whether right or wrong, made for each of the known class labels.\n",
    "\n",
    "We'll reach for the scikit-learn [`confusion_matrix`](https://scikit-learn.org/stable/modules/generated/sklearn.metrics.confusion_matrix.html) function to generate a confusion matrix for us.\n",
    "\n",
    "```python\n",
    "from sklearn.metrics import confusion_matrix\n",
    "\n",
    "confusion_matrix = confusion_matrix(y_test, y_predictions)\n",
    "```\n",
    "\n",
    "We import the `confusion_matrix` function, and then invoke it, passing it the expected class labels in the validation set, `y_test`, and the predicted labels, `y_predictions`. It returns, in essence, a matrix, which we assign to `confusion_matrix`.\n"
   ]
  },
  {
   "cell_type": "code",
   "execution_count": 17,
   "id": "4f268507",
   "metadata": {
    "execution": {
     "iopub.execute_input": "2023-04-21T05:52:24.902638Z",
     "iopub.status.busy": "2023-04-21T05:52:24.901786Z",
     "iopub.status.idle": "2023-04-21T05:52:24.909471Z",
     "shell.execute_reply": "2023-04-21T05:52:24.908614Z"
    },
    "papermill": {
     "duration": 0.025223,
     "end_time": "2023-04-21T05:52:24.911987",
     "exception": false,
     "start_time": "2023-04-21T05:52:24.886764",
     "status": "completed"
    },
    "tags": []
   },
   "outputs": [],
   "source": [
    "from sklearn.metrics import confusion_matrix\n",
    "\n",
    "confusion_matrix = confusion_matrix(y_test, y_predictions)"
   ]
  },
  {
   "cell_type": "markdown",
   "id": "c0da1e8f",
   "metadata": {
    "papermill": {
     "duration": 0.013195,
     "end_time": "2023-04-21T05:52:24.938632",
     "exception": false,
     "start_time": "2023-04-21T05:52:24.925437",
     "status": "completed"
    },
    "tags": []
   },
   "source": [
    "Now, let's inspect the confusion matrix by simply printing it.\n",
    "\n",
    "```python\n",
    "print(confusion_matrix)\n",
    "```"
   ]
  },
  {
   "cell_type": "code",
   "execution_count": 18,
   "id": "8436c935",
   "metadata": {
    "execution": {
     "iopub.execute_input": "2023-04-21T05:52:24.968465Z",
     "iopub.status.busy": "2023-04-21T05:52:24.967614Z",
     "iopub.status.idle": "2023-04-21T05:52:24.974711Z",
     "shell.execute_reply": "2023-04-21T05:52:24.973328Z"
    },
    "papermill": {
     "duration": 0.024383,
     "end_time": "2023-04-21T05:52:24.977111",
     "exception": false,
     "start_time": "2023-04-21T05:52:24.952728",
     "status": "completed"
    },
    "tags": []
   },
   "outputs": [
    {
     "name": "stdout",
     "output_type": "stream",
     "text": [
      "[[27  0  0  0  0  0  0  0  0  0]\n",
      " [ 0 35  0  0  0  0  0  0  0  0]\n",
      " [ 1  0 32  1  0  0  0  1  1  0]\n",
      " [ 0  0  0 29  0  0  0  0  0  0]\n",
      " [ 0  0  0  0 29  0  0  1  0  0]\n",
      " [ 0  0  0  0  0 39  0  0  0  1]\n",
      " [ 0  0  0  0  0  0 44  0  0  0]\n",
      " [ 0  0  0  0  0  0  0 39  0  0]\n",
      " [ 0  3  0  1  0  0  1  1 33  0]\n",
      " [ 0  0  0  0  0  1  0  1  0 39]]\n"
     ]
    }
   ],
   "source": [
    "print(confusion_matrix)"
   ]
  },
  {
   "cell_type": "markdown",
   "id": "51efc811",
   "metadata": {
    "papermill": {
     "duration": 0.013755,
     "end_time": "2023-04-21T05:52:25.004684",
     "exception": false,
     "start_time": "2023-04-21T05:52:24.990929",
     "status": "completed"
    },
    "tags": []
   },
   "source": [
    "The horizontal axis of a confusion matrix represents the predicted labels, and the vertical axis represents the correct class labels. Each entry in the matrix represents the number of images predicted to have that class label.\n",
    "\n",
    "Notice how well this classifer performed, with our default **_k_**, euclidean distance, and a (luckily!) high-quality data set. We can see the 27 of the **0** handwritten images are correctly classified, and none are misclassified. If we look at the last row in the confusion matrix, we see that 39 of the **9** images are correctly classified, but one was classified as a **5**, and another classified as a **7**.\n",
    "\n",
    "### But, can you do better?"
   ]
  },
  {
   "cell_type": "markdown",
   "id": "abf663ef",
   "metadata": {
    "papermill": {
     "duration": 0.013269,
     "end_time": "2023-04-21T05:52:25.031671",
     "exception": false,
     "start_time": "2023-04-21T05:52:25.018402",
     "status": "completed"
    },
    "tags": []
   },
   "source": [
    "### 💡 Knowledge Check 5\n",
    "\n",
    "Inspect the confusion matrix. Which handwritten letter seemed to be the \"hardest\" for our classifier to predict correctly? What evidence in the confusion matrix leads you to assert this?\n",
    "\n",
    "8 seemed to be the hardest for the classifier to predict correctly. I say this because it had the most errors. 3 times an 8 was predicted as a 1, once as a 3, once as a 6, and once as a 7."
   ]
  },
  {
   "cell_type": "markdown",
   "id": "66a53fda",
   "metadata": {
    "papermill": {
     "duration": 0.013385,
     "end_time": "2023-04-21T05:52:25.059107",
     "exception": false,
     "start_time": "2023-04-21T05:52:25.045722",
     "status": "completed"
    },
    "tags": []
   },
   "source": [
    "## Tune the Classifier: Find the Best **_k_**\n",
    "\n",
    "Now it's your turn. Given what we have seen in the course thus far, and the `sklearn` API seen in this notebook, create an iterative experiment that inspects the accuracy of different classifiers using different **_k_** values. Your goal is to configure a classifier that exhibits the highest possible accuracy. Start your experiment with the traditional initial **_k_**, the square root of the number of records in the training set.\n",
    "\n",
    "Your experiment should demonstrate:\n",
    "\n",
    "- Creating KNeighborsClassifiers with different **_k_** values\n",
    "- \"Training\" and validating the classifiers\n",
    "- Capturing and presenting the accuracy for each **_k_**\n",
    "\n",
    "Keep your experiment simple. (Hint: Use a loop.)\n",
    "\n",
    "Conclude your experiment with a markdown cell that asserts your proposed **_k_**, the accuracy of your classifier, and what leads you to choose this value of **_k_**.\n"
   ]
  },
  {
   "cell_type": "code",
   "execution_count": 19,
   "id": "0844d158",
   "metadata": {
    "execution": {
     "iopub.execute_input": "2023-04-21T05:52:25.088790Z",
     "iopub.status.busy": "2023-04-21T05:52:25.087900Z",
     "iopub.status.idle": "2023-04-21T05:52:42.855623Z",
     "shell.execute_reply": "2023-04-21T05:52:42.854645Z"
    },
    "papermill": {
     "duration": 17.785586,
     "end_time": "2023-04-21T05:52:42.858184",
     "exception": false,
     "start_time": "2023-04-21T05:52:25.072598",
     "status": "completed"
    },
    "tags": []
   },
   "outputs": [
    {
     "data": {
      "image/png": "[encoded data removed]",
      "text/plain": [
       "<Figure size 640x480 with 1 Axes>"
      ]
     },
     "metadata": {},
     "output_type": "display_data"
    }
   ],
   "source": [
    "# 💡 Knowledge Check 6 Code\n",
    "\n",
    "# Dictionary to store accuracy values\n",
    "accuracy_dict = {}\n",
    "\n",
    "# Initial k is 37\n",
    "for k_value in range(1,250):\n",
    "    classifier = KNeighborsClassifier(n_neighbors = k_value)\n",
    "    classifier.fit(X_train, y_train)\n",
    "    y_predictions = classifier.predict(X_test)\n",
    "    accuracy = accuracy_score(y_test, y_predictions)\n",
    "    accuracy_dict[k_value] = accuracy\n",
    "\n",
    "x = accuracy_dict.keys()\n",
    "y = accuracy_dict.values()\n",
    "plt.scatter(x,y)\n",
    "plt.xlabel('K Value')\n",
    "plt.ylabel('Accuracy')\n",
    "plt.show()"
   ]
  },
  {
   "cell_type": "code",
   "execution_count": 20,
   "id": "2dff246b",
   "metadata": {
    "execution": {
     "iopub.execute_input": "2023-04-21T05:52:42.888808Z",
     "iopub.status.busy": "2023-04-21T05:52:42.888364Z",
     "iopub.status.idle": "2023-04-21T05:52:42.894508Z",
     "shell.execute_reply": "2023-04-21T05:52:42.893188Z"
    },
    "papermill": {
     "duration": 0.025468,
     "end_time": "2023-04-21T05:52:42.897749",
     "exception": false,
     "start_time": "2023-04-21T05:52:42.872281",
     "status": "completed"
    },
    "tags": []
   },
   "outputs": [
    {
     "name": "stdout",
     "output_type": "stream",
     "text": [
      "{1: 0.9888888888888889, 2: 0.9805555555555555, 3: 0.9833333333333333, 4: 0.975, 5: 0.975}\n"
     ]
    }
   ],
   "source": [
    "from itertools import islice\n",
    "first_n_items = dict(islice(accuracy_dict.items(), 5))\n",
    "print(first_n_items)"
   ]
  },
  {
   "cell_type": "markdown",
   "id": "5f77a61b",
   "metadata": {
    "papermill": {
     "duration": 0.013832,
     "end_time": "2023-04-21T05:52:42.925901",
     "exception": false,
     "start_time": "2023-04-21T05:52:42.912069",
     "status": "completed"
    },
    "tags": []
   },
   "source": [
    "### 💡 Knowledge Check 6\n",
    "\n",
    "Conclude your experiment with a brief assertion of your proposed **_k_**, the accuracy of your classifier, and what led you to choose this value of **_k_**.\n",
    "\n",
    "I would propose a k value of 3. The accuracy my of classifier is 98.3%. I chose this value of k because it gave me a very high accuracy. The only k value with a higher accuracy was a k value of 1, which gave me 98.9% accuracy. While this is technically better, having only 1 neighbor involved in the decision would make it very sensitive to noise and outliers in the data. I am also worried it may be overfitting the data. I picked 3 to make the model a bit more stable and still maintain the high accuracy. The plot above shows the trend that the accuracy decreased the more I increased the k value.\n",
    "\n"
   ]
  },
  {
   "cell_type": "markdown",
   "id": "163afd97",
   "metadata": {
    "papermill": {
     "duration": 0.013728,
     "end_time": "2023-04-21T05:52:42.953972",
     "exception": false,
     "start_time": "2023-04-21T05:52:42.940244",
     "status": "completed"
    },
    "tags": []
   },
   "source": [
    "# Conclusion\n",
    "\n",
    "Congratulations on finishing an authentic machine learning workflow! While our dataset is of high quality, and the drama of preprocessing is abbreviated, we hope that this notebook enables you to see how we can use ML tools to carry out much of the machine learning process.\n",
    "\n",
    "Please wrap up this notebook with a brief narrative.\n",
    "\n",
    "### 💡 Knowledge Check 7\n",
    "\n",
    "Imagine that a \"person on the street\" (or your twelve-year-old relative) asks you, \"What does it take for a computer to recognize handwritten characters that get scanned and turned into computable numbers?\" Rely on our journey through this notebook, infer and deduce what you can as necessary, but be mindful of your audience: please explain things in a manner befitting someone who knows nothing about these things.\n",
    "\n",
    "Conclude with your assertion about whether or not character recognition is an \"easy\" or \"very difficult\" machine learning problem, and whether or not this surprises you.\n",
    "\n",
    "The first step for computers to be able to recognize handwritten characters is turning an image of a character into numbers that can represent it. The character needs to be bound by a box, and then that box needs to be separated into a grid of more boxes, also called pixels. The pixel is the smallest unit of a picture, and can be represented as a number, which represents the color that it shows. In the case of characters, each number would represent the intensity of color, say 0 for white (blank) and 1 for completely black. If it was gray, the number could be 0.5. Then, each image, consisting of these pixels, could be represented by a row of numbers. Each number in the row would represent how dark the pixel is. This is how computers store pictures in memory.\n",
    "\n",
    "Now that we have characters stored as rows of numbers (like in a picture), we can start collecting lots of pictures of characters and grouping them together. Many people writing '3' would likely fill in the same pixels with ink over and over, which would show as a distinct pattern in the row of numbers. With a lot of data collected and labeled with the correct character they represent, the computer can compare new characters with the patterns in the row of numbers it has in memory. It can then group the new character image with a known group of character images, thereby recognizing handwritten characters.\n",
    "\n",
    "I think character recognition is an easy machine learning problem. We know what is different about each character and know how to feed that information into a computer. This does not surprise me.\n",
    "\n"
   ]
  }
 ],
 "metadata": {
  "kernelspec": {
   "display_name": "Python 3",
   "language": "python",
   "name": "python3"
  },
  "language_info": {
   "codemirror_mode": {
    "name": "ipython",
    "version": 3
   },
   "file_extension": ".py",
   "mimetype": "text/x-python",
   "name": "python",
   "nbconvert_exporter": "python",
   "pygments_lexer": "ipython3",
   "version": "3.7.12"
  },
  "papermill": {
   "default_parameters": {},
   "duration": 34.663784,
   "end_time": "2023-04-21T05:52:43.792829",
   "environment_variables": {},
   "exception": null,
   "input_path": "__notebook__.ipynb",
   "output_path": "__notebook__.ipynb",
   "parameters": {},
   "start_time": "2023-04-21T05:52:09.129045",
   "version": "2.4.0"
  }
 },
 "nbformat": 4,
 "nbformat_minor": 5
}
